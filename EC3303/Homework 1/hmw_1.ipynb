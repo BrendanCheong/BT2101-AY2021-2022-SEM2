{
 "cells": [
  {
   "cell_type": "code",
   "execution_count": 65,
   "metadata": {},
   "outputs": [
    {
     "data": {
      "text/html": [
       "<div>\n",
       "<style scoped>\n",
       "    .dataframe tbody tr th:only-of-type {\n",
       "        vertical-align: middle;\n",
       "    }\n",
       "\n",
       "    .dataframe tbody tr th {\n",
       "        vertical-align: top;\n",
       "    }\n",
       "\n",
       "    .dataframe thead th {\n",
       "        text-align: right;\n",
       "    }\n",
       "</style>\n",
       "<table border=\"1\" class=\"dataframe\">\n",
       "  <thead>\n",
       "    <tr style=\"text-align: right;\">\n",
       "      <th></th>\n",
       "      <th>perc_disadvantaged</th>\n",
       "      <th>perc_attend_preschool</th>\n",
       "      <th>perc_health_problem</th>\n",
       "      <th>str</th>\n",
       "      <th>home_pc</th>\n",
       "      <th>livewithparents</th>\n",
       "      <th>house_size</th>\n",
       "      <th>math_scr</th>\n",
       "      <th>male</th>\n",
       "    </tr>\n",
       "  </thead>\n",
       "  <tbody>\n",
       "    <tr>\n",
       "      <th>0</th>\n",
       "      <td>0.0</td>\n",
       "      <td>70.0</td>\n",
       "      <td>2.0</td>\n",
       "      <td>9.1</td>\n",
       "      <td>1.0</td>\n",
       "      <td>0.0</td>\n",
       "      <td>5.0</td>\n",
       "      <td>-0.480435</td>\n",
       "      <td>1.0</td>\n",
       "    </tr>\n",
       "    <tr>\n",
       "      <th>1</th>\n",
       "      <td>0.0</td>\n",
       "      <td>70.0</td>\n",
       "      <td>2.0</td>\n",
       "      <td>9.1</td>\n",
       "      <td>0.0</td>\n",
       "      <td>1.0</td>\n",
       "      <td>7.0</td>\n",
       "      <td>-2.119622</td>\n",
       "      <td>1.0</td>\n",
       "    </tr>\n",
       "    <tr>\n",
       "      <th>2</th>\n",
       "      <td>0.0</td>\n",
       "      <td>70.0</td>\n",
       "      <td>2.0</td>\n",
       "      <td>9.1</td>\n",
       "      <td>0.0</td>\n",
       "      <td>1.0</td>\n",
       "      <td>4.0</td>\n",
       "      <td>-1.486255</td>\n",
       "      <td>0.0</td>\n",
       "    </tr>\n",
       "    <tr>\n",
       "      <th>3</th>\n",
       "      <td>0.0</td>\n",
       "      <td>70.0</td>\n",
       "      <td>2.0</td>\n",
       "      <td>9.1</td>\n",
       "      <td>1.0</td>\n",
       "      <td>1.0</td>\n",
       "      <td>5.0</td>\n",
       "      <td>0.264469</td>\n",
       "      <td>1.0</td>\n",
       "    </tr>\n",
       "    <tr>\n",
       "      <th>4</th>\n",
       "      <td>0.0</td>\n",
       "      <td>70.0</td>\n",
       "      <td>2.0</td>\n",
       "      <td>9.1</td>\n",
       "      <td>1.0</td>\n",
       "      <td>1.0</td>\n",
       "      <td>4.0</td>\n",
       "      <td>1.510291</td>\n",
       "      <td>1.0</td>\n",
       "    </tr>\n",
       "    <tr>\n",
       "      <th>...</th>\n",
       "      <td>...</td>\n",
       "      <td>...</td>\n",
       "      <td>...</td>\n",
       "      <td>...</td>\n",
       "      <td>...</td>\n",
       "      <td>...</td>\n",
       "      <td>...</td>\n",
       "      <td>...</td>\n",
       "      <td>...</td>\n",
       "    </tr>\n",
       "    <tr>\n",
       "      <th>9784</th>\n",
       "      <td>10.0</td>\n",
       "      <td>90.0</td>\n",
       "      <td>20.0</td>\n",
       "      <td>14.6</td>\n",
       "      <td>0.0</td>\n",
       "      <td>1.0</td>\n",
       "      <td>3.0</td>\n",
       "      <td>0.422811</td>\n",
       "      <td>1.0</td>\n",
       "    </tr>\n",
       "    <tr>\n",
       "      <th>9785</th>\n",
       "      <td>10.0</td>\n",
       "      <td>90.0</td>\n",
       "      <td>20.0</td>\n",
       "      <td>14.6</td>\n",
       "      <td>0.0</td>\n",
       "      <td>0.0</td>\n",
       "      <td>4.0</td>\n",
       "      <td>-1.817876</td>\n",
       "      <td>0.0</td>\n",
       "    </tr>\n",
       "    <tr>\n",
       "      <th>9786</th>\n",
       "      <td>10.0</td>\n",
       "      <td>90.0</td>\n",
       "      <td>20.0</td>\n",
       "      <td>14.6</td>\n",
       "      <td>0.0</td>\n",
       "      <td>0.0</td>\n",
       "      <td>4.0</td>\n",
       "      <td>-1.458371</td>\n",
       "      <td>0.0</td>\n",
       "    </tr>\n",
       "    <tr>\n",
       "      <th>9787</th>\n",
       "      <td>10.0</td>\n",
       "      <td>90.0</td>\n",
       "      <td>20.0</td>\n",
       "      <td>14.6</td>\n",
       "      <td>0.0</td>\n",
       "      <td>1.0</td>\n",
       "      <td>3.0</td>\n",
       "      <td>-1.596795</td>\n",
       "      <td>1.0</td>\n",
       "    </tr>\n",
       "    <tr>\n",
       "      <th>9788</th>\n",
       "      <td>10.0</td>\n",
       "      <td>90.0</td>\n",
       "      <td>20.0</td>\n",
       "      <td>14.6</td>\n",
       "      <td>1.0</td>\n",
       "      <td>1.0</td>\n",
       "      <td>4.0</td>\n",
       "      <td>-1.826839</td>\n",
       "      <td>1.0</td>\n",
       "    </tr>\n",
       "  </tbody>\n",
       "</table>\n",
       "<p>9789 rows × 9 columns</p>\n",
       "</div>"
      ],
      "text/plain": [
       "      perc_disadvantaged  perc_attend_preschool  perc_health_problem   str  \\\n",
       "0                    0.0                   70.0                  2.0   9.1   \n",
       "1                    0.0                   70.0                  2.0   9.1   \n",
       "2                    0.0                   70.0                  2.0   9.1   \n",
       "3                    0.0                   70.0                  2.0   9.1   \n",
       "4                    0.0                   70.0                  2.0   9.1   \n",
       "...                  ...                    ...                  ...   ...   \n",
       "9784                10.0                   90.0                 20.0  14.6   \n",
       "9785                10.0                   90.0                 20.0  14.6   \n",
       "9786                10.0                   90.0                 20.0  14.6   \n",
       "9787                10.0                   90.0                 20.0  14.6   \n",
       "9788                10.0                   90.0                 20.0  14.6   \n",
       "\n",
       "      home_pc  livewithparents  house_size  math_scr  male  \n",
       "0         1.0              0.0         5.0 -0.480435   1.0  \n",
       "1         0.0              1.0         7.0 -2.119622   1.0  \n",
       "2         0.0              1.0         4.0 -1.486255   0.0  \n",
       "3         1.0              1.0         5.0  0.264469   1.0  \n",
       "4         1.0              1.0         4.0  1.510291   1.0  \n",
       "...       ...              ...         ...       ...   ...  \n",
       "9784      0.0              1.0         3.0  0.422811   1.0  \n",
       "9785      0.0              0.0         4.0 -1.817876   0.0  \n",
       "9786      0.0              0.0         4.0 -1.458371   0.0  \n",
       "9787      0.0              1.0         3.0 -1.596795   1.0  \n",
       "9788      1.0              1.0         4.0 -1.826839   1.0  \n",
       "\n",
       "[9789 rows x 9 columns]"
      ]
     },
     "execution_count": 65,
     "metadata": {},
     "output_type": "execute_result"
    }
   ],
   "source": [
    "import numpy as np\n",
    "import scipy as sp\n",
    "import statsmodels.formula.api as smf\n",
    "import statsmodels.api as sm\n",
    "import pandas as pd\n",
    "import seaborn as sns\n",
    "import wooldridge\n",
    "from typing import *\n",
    "from statsmodels.tools.eval_measures import rmse\n",
    "sns.set(rc={'figure.figsize':(11.7,8.27)})\n",
    "df = pd.read_stata(\"canada_test_scr.dta\")\n",
    "df"
   ]
  },
  {
   "cell_type": "code",
   "execution_count": 66,
   "metadata": {},
   "outputs": [
    {
     "data": {
      "text/plain": [
       "<AxesSubplot:xlabel='perc_attend_preschool', ylabel='math_scr'>"
      ]
     },
     "execution_count": 66,
     "metadata": {},
     "output_type": "execute_result"
    },
    {
     "data": {
      "image/png": "[encoded data removed]",
      "text/plain": [
       "<Figure size 842.4x595.44 with 1 Axes>"
      ]
     },
     "metadata": {},
     "output_type": "display_data"
    }
   ],
   "source": [
    "sns.regplot(x=df[\"perc_attend_preschool\"],y=df[\"math_scr\"], data=df)"
   ]
  },
  {
   "cell_type": "markdown",
   "metadata": {},
   "source": [
    "# Qns 8\n",
    "\n",
    "What is the percentage of students in the sample who do not possess a computer or a laptop at home? Round your answers to 2 decimal places. Pick the closest option."
   ]
  },
  {
   "cell_type": "code",
   "execution_count": 67,
   "metadata": {},
   "outputs": [
    {
     "name": "stdout",
     "output_type": "stream",
     "text": [
      "percentage of students with no pc: 38.62%\n"
     ]
    }
   ],
   "source": [
    "# find the percentage of students with home_pc = 0.0 in df\n",
    "no_pc: int = df[\"home_pc\"].value_counts()[0]\n",
    "total: int = df[\"home_pc\"].count()\n",
    "print(f\"percentage of students with no pc: {no_pc/total:.2%}\")"
   ]
  },
  {
   "cell_type": "markdown",
   "metadata": {},
   "source": [
    "# Qns 9\n",
    "\n",
    "What is the average number of people living in each student’s household? Round your answers to 2 decimal places."
   ]
  },
  {
   "cell_type": "code",
   "execution_count": 68,
   "metadata": {},
   "outputs": [
    {
     "name": "stdout",
     "output_type": "stream",
     "text": [
      "average house size: 4.57\n"
     ]
    }
   ],
   "source": [
    "# find average number of house_size in df\n",
    "avg_house_size: float = df[\"house_size\"].mean()\n",
    "print(f\"average house size: {avg_house_size:.2f}\")"
   ]
  },
  {
   "cell_type": "markdown",
   "metadata": {},
   "source": [
    "# Qns 10\n",
    "\n",
    "Run a regression of mathematics test score on the percentage of children in the student’s school who attended pre-school. Remember to include heteroskedasticity-robust standard errors. The output tells us that:\n",
    "\n",
    "# Qns 11\n",
    "\n",
    "Run a regression of mathematics test score on the percentage of children in the student’s school who attended pre-school. Remember to include heteroskedasticity-robust standard errors. Using the normal table, construct a 76.6% confidence interval for the coefficient on perc_attend_preschool. Round your answers to 6 decimal places. Pick the closest option."
   ]
  },
  {
   "cell_type": "code",
   "execution_count": 69,
   "metadata": {},
   "outputs": [
    {
     "name": "stdout",
     "output_type": "stream",
     "text": [
      "                            OLS Regression Results                            \n",
      "==============================================================================\n",
      "Dep. Variable:               math_scr   R-squared:                       0.010\n",
      "Model:                            OLS   Adj. R-squared:                  0.010\n",
      "Method:                 Least Squares   F-statistic:                     95.77\n",
      "Date:                Mon, 28 Feb 2022   Prob (F-statistic):           1.63e-22\n",
      "Time:                        16:18:23   Log-Likelihood:                -13768.\n",
      "No. Observations:                9789   AIC:                         2.754e+04\n",
      "Df Residuals:                    9787   BIC:                         2.756e+04\n",
      "Df Model:                           1                                         \n",
      "Covariance Type:                  HC3                                         \n",
      "=========================================================================================\n",
      "                            coef    std err          z      P>|z|      [0.025      0.975]\n",
      "-----------------------------------------------------------------------------------------\n",
      "Intercept                -0.1146      0.018     -6.510      0.000      -0.149      -0.080\n",
      "perc_attend_preschool     0.0024      0.000      9.786      0.000       0.002       0.003\n",
      "==============================================================================\n",
      "Omnibus:                      684.045   Durbin-Watson:                   1.569\n",
      "Prob(Omnibus):                  0.000   Jarque-Bera (JB):              236.218\n",
      "Skew:                          -0.026   Prob(JB):                     5.08e-52\n",
      "Kurtosis:                       2.241   Cond. No.                         129.\n",
      "==============================================================================\n",
      "\n",
      "Notes:\n",
      "[1] Standard Errors are heteroscedasticity robust (HC3)\n",
      "76.6% confidence interval:                               0         1\n",
      "perc_attend_preschool  0.002105  0.002687\n",
      "LinregressResult(slope=0.00239595371993444, intercept=-0.11458764681699518, rvalue=0.09877267588177471, pvalue=1.180424266262762e-22, stderr=0.00024399892448123057)\n"
     ]
    }
   ],
   "source": [
    "# Run a regression of math_scr on perc_attend_preschool\n",
    "y = df[\"math_scr\"]\n",
    "x = df[\"perc_attend_preschool\"]\n",
    "model = smf.ols(formula=\"math_scr ~ perc_attend_preschool\", data=df).fit(cov_type='HC3')\n",
    "print(model.summary())\n",
    "# find the 76.6% confidence interval for perc_attend_preschool\n",
    "conf_int: np.ndarray = model.conf_int(0.234)\n",
    "print(f\"76.6% confidence interval: {conf_int[1:2]}\")\n",
    "\n",
    "regression = sp.stats.linregress(x, y)\n",
    "print(regression)"
   ]
  },
  {
   "cell_type": "markdown",
   "metadata": {},
   "source": [
    "# Qns 14\n",
    "\n",
    "Run a regression of mathematics test score on the percentage of children in the student’s school from economically disadvantaged families. Remember to include heteroskedasticity-robust standard errors. Based on this regression, answer the following question: Giorgos is from a school where 70% of children are from economically disadvantaged families. Tim is from a school where 25% of children are from economically disadvantaged families. How much more or less is Giorgos’s math test score predicted to be compared to Tim’s, assuming they are alike in all other aspects apart from the percentage of children in their schools who are from economically disadvantaged families?\n",
    "\n",
    "# Qns 15\n",
    "\n",
    "Based on this regression, answer the following question: Jianhao obtained a math test score of -1.712315. Jianhao is from a school where 15% of children are from economically disadvantaged families. How large is the residual specific for Jianhao? Round your answer to 6 decimal places."
   ]
  },
  {
   "cell_type": "code",
   "execution_count": 70,
   "metadata": {},
   "outputs": [
    {
     "name": "stdout",
     "output_type": "stream",
     "text": [
      "                            OLS Regression Results                            \n",
      "==============================================================================\n",
      "Dep. Variable:               math_scr   R-squared:                       0.016\n",
      "Model:                            OLS   Adj. R-squared:                  0.016\n",
      "Method:                 Least Squares   F-statistic:                     161.6\n",
      "Date:                Mon, 28 Feb 2022   Prob (F-statistic):           9.65e-37\n",
      "Time:                        16:18:23   Log-Likelihood:                -13737.\n",
      "No. Observations:                9789   AIC:                         2.748e+04\n",
      "Df Residuals:                    9787   BIC:                         2.749e+04\n",
      "Df Model:                           1                                         \n",
      "Covariance Type:                  HC3                                         \n",
      "======================================================================================\n",
      "                         coef    std err          z      P>|z|      [0.025      0.975]\n",
      "--------------------------------------------------------------------------------------\n",
      "Intercept              0.1613      0.014     11.289      0.000       0.133       0.189\n",
      "perc_disadvantaged    -0.0069      0.001    -12.714      0.000      -0.008      -0.006\n",
      "==============================================================================\n",
      "Omnibus:                      603.401   Durbin-Watson:                   1.579\n",
      "Prob(Omnibus):                  0.000   Jarque-Bera (JB):              219.453\n",
      "Skew:                          -0.014   Prob(JB):                     2.22e-48\n",
      "Kurtosis:                       2.267   Cond. No.                         38.7\n",
      "==============================================================================\n",
      "\n",
      "Notes:\n",
      "[1] Standard Errors are heteroscedasticity robust (HC3)\n",
      "LinregressResult(slope=-0.006851694103409948, intercept=0.1613044880039164, rvalue=-0.12650010597769112, pvalue=3.299313016971376e-36, stderr=0.0005430994071823923)\n"
     ]
    }
   ],
   "source": [
    "# run a regression of math_scr on perc_disadvantaged\n",
    "y = df[\"math_scr\"]\n",
    "x = df[\"perc_disadvantaged\"]\n",
    "model = smf.ols(formula=\"math_scr ~ perc_disadvantaged\", data=df).fit(cov_type='HC3')\n",
    "print(model.summary())\n",
    "\n",
    "regression = sp.stats.linregress(x, y)\n",
    "print(regression)"
   ]
  },
  {
   "cell_type": "markdown",
   "metadata": {},
   "source": [
    "# Qns 16\n",
    "\n",
    "Examine the data on mathematics test score and the percentage of children in the student’s school with health problems. Then run a regression of mathematics test score on the percentage of children in the student’s school with health problems. Remember to include heteroskedasticity-robust standard errors. Based on this regression, answer the following question: Starley is from a school were 5% of students have health problems. Cindy is from a school were 97% of students have health problems. How much more or less is Cindy’s math test score predicted to be compared with Starely’s, assuming they are alike in all other aspects apart from the percentage of children in their school with health problems?\n",
    "\n",
    "# Qns 17\n",
    "\n",
    "Based on this regression, answer the following question: Suppose math test scores now increased by a factor of 50 (i.e. a math score of 1 now becomes 50. Similarly, a math score of 2 now becomes 100), what would the estimated coefficient on perc_health_problem be if this were the case? Round your answer to 4 significant figures."
   ]
  },
  {
   "cell_type": "code",
   "execution_count": 71,
   "metadata": {},
   "outputs": [
    {
     "name": "stdout",
     "output_type": "stream",
     "text": [
      "                            OLS Regression Results                            \n",
      "==============================================================================\n",
      "Dep. Variable:               math_scr   R-squared:                       0.002\n",
      "Model:                            OLS   Adj. R-squared:                  0.002\n",
      "Method:                 Least Squares   F-statistic:                     18.25\n",
      "Date:                Mon, 28 Feb 2022   Prob (F-statistic):           1.95e-05\n",
      "Time:                        16:18:23   Log-Likelihood:                -13807.\n",
      "No. Observations:                9789   AIC:                         2.762e+04\n",
      "Df Residuals:                    9787   BIC:                         2.763e+04\n",
      "Df Model:                           1                                         \n",
      "Covariance Type:                  HC3                                         \n",
      "=======================================================================================\n",
      "                          coef    std err          z      P>|z|      [0.025      0.975]\n",
      "---------------------------------------------------------------------------------------\n",
      "Intercept               0.0740      0.014      5.107      0.000       0.046       0.102\n",
      "perc_health_problem    -0.0080      0.002     -4.272      0.000      -0.012      -0.004\n",
      "==============================================================================\n",
      "Omnibus:                      693.468   Durbin-Watson:                   1.557\n",
      "Prob(Omnibus):                  0.000   Jarque-Bera (JB):              237.662\n",
      "Skew:                          -0.021   Prob(JB):                     2.47e-52\n",
      "Kurtosis:                       2.238   Cond. No.                         11.4\n",
      "==============================================================================\n",
      "\n",
      "Notes:\n",
      "[1] Standard Errors are heteroscedasticity robust (HC3)\n",
      "LinregressResult(slope=-0.007991263448185756, intercept=0.07404202066441432, rvalue=-0.04470319228945627, pvalue=9.664222261778919e-06, stderr=0.0018051684759054383)\n"
     ]
    }
   ],
   "source": [
    "y = df[\"math_scr\"]\n",
    "x = df[\"perc_health_problem\"]\n",
    "\n",
    "model = smf.ols(formula=\"math_scr ~ perc_health_problem\", data=df).fit(cov_type='HC3')\n",
    "print(model.summary())\n",
    "\n",
    "regression = sp.stats.linregress(x, y)\n",
    "print(regression)"
   ]
  },
  {
   "cell_type": "code",
   "execution_count": 101,
   "metadata": {},
   "outputs": [
    {
     "name": "stdout",
     "output_type": "stream",
     "text": [
      "                            OLS Regression Results                            \n",
      "==============================================================================\n",
      "Dep. Variable:               math_scr   R-squared:                       0.002\n",
      "Model:                            OLS   Adj. R-squared:                  0.002\n",
      "Method:                 Least Squares   F-statistic:                     18.25\n",
      "Date:                Mon, 28 Feb 2022   Prob (F-statistic):           1.95e-05\n",
      "Time:                        16:47:43   Log-Likelihood:                -52101.\n",
      "No. Observations:                9789   AIC:                         1.042e+05\n",
      "Df Residuals:                    9787   BIC:                         1.042e+05\n",
      "Df Model:                           1                                         \n",
      "Covariance Type:                  HC3                                         \n",
      "=======================================================================================\n",
      "                          coef    std err          z      P>|z|      [0.025      0.975]\n",
      "---------------------------------------------------------------------------------------\n",
      "Intercept               3.7021      0.725      5.107      0.000       2.281       5.123\n",
      "perc_health_problem    -0.3996      0.094     -4.272      0.000      -0.583      -0.216\n",
      "==============================================================================\n",
      "Omnibus:                      693.468   Durbin-Watson:                   1.557\n",
      "Prob(Omnibus):                  0.000   Jarque-Bera (JB):              237.662\n",
      "Skew:                          -0.021   Prob(JB):                     2.47e-52\n",
      "Kurtosis:                       2.238   Cond. No.                         11.4\n",
      "==============================================================================\n",
      "\n",
      "Notes:\n",
      "[1] Standard Errors are heteroscedasticity robust (HC3)\n",
      "LinregressResult(slope=-0.055076210913980406, intercept=4.59263759059306, rvalue=-0.02253053163563926, pvalue=0.025803593654692664, stderr=0.02470344736992352)\n"
     ]
    }
   ],
   "source": [
    "# multiply df[\"math_scr\"] by 50\n",
    "new_df = df.copy()\n",
    "new_df[\"math_scr\"] = new_df[\"math_scr\"] * 50\n",
    "model = smf.ols(formula=\"math_scr ~ perc_health_problem\", data=new_df).fit(cov_type='HC3')\n",
    "print(model.summary())\n",
    "\n",
    "regression = sp.stats.linregress(x, y)\n",
    "print(regression)"
   ]
  },
  {
   "cell_type": "markdown",
   "metadata": {},
   "source": [
    "# Qns 18\n",
    "\n",
    "You are interested to know whether student-to-teacher ratio differs by student gender. In other words, you want to know whether, on average, males attend schools with larger (or smaller) student-to-teacher ratios compared to females. Run a regression which will allow you to examine this. Remember to include heteroskedasticity robust standard errors. What do the results tell you?"
   ]
  },
  {
   "cell_type": "code",
   "execution_count": 118,
   "metadata": {},
   "outputs": [
    {
     "name": "stdout",
     "output_type": "stream",
     "text": [
      "                            OLS Regression Results                            \n",
      "==============================================================================\n",
      "Dep. Variable:                    str   R-squared:                       0.001\n",
      "Model:                            OLS   Adj. R-squared:                  0.001\n",
      "Method:                 Least Squares   F-statistic:                     10.49\n",
      "Date:                Mon, 28 Feb 2022   Prob (F-statistic):            0.00120\n",
      "Time:                        17:10:15   Log-Likelihood:                -28933.\n",
      "No. Observations:                9789   AIC:                         5.787e+04\n",
      "Df Residuals:                    9787   BIC:                         5.789e+04\n",
      "Df Model:                           1                                         \n",
      "Covariance Type:                  HC3                                         \n",
      "==============================================================================\n",
      "                 coef    std err          z      P>|z|      [0.025      0.975]\n",
      "------------------------------------------------------------------------------\n",
      "Intercept     20.4360      0.067    306.033      0.000      20.305      20.567\n",
      "male          -0.3044      0.094     -3.239      0.001      -0.489      -0.120\n",
      "==============================================================================\n",
      "Omnibus:                      322.399   Durbin-Watson:                   0.045\n",
      "Prob(Omnibus):                  0.000   Jarque-Bera (JB):              358.701\n",
      "Skew:                           0.441   Prob(JB):                     1.29e-78\n",
      "Kurtosis:                       3.321   Cond. No.                         2.61\n",
      "==============================================================================\n",
      "\n",
      "Notes:\n",
      "[1] Standard Errors are heteroscedasticity robust (HC3)\n",
      "20.131568144499294\n",
      "20.436017897091837\n",
      "96.0% confidence interval:              0         1\n",
      "male -0.497508 -0.111392\n"
     ]
    },
    {
     "data": {
      "image/png": "[encoded data removed]",
      "text/plain": [
       "<Figure size 842.4x595.44 with 1 Axes>"
      ]
     },
     "metadata": {},
     "output_type": "display_data"
    }
   ],
   "source": [
    "y = df[\"str\"]\n",
    "x = df[\"male\"]\n",
    "model = smf.ols(formula=\"str ~ male\", data=df).fit(cov_type='HC3', fit_intercept=False, C=100000)\n",
    "print(model.summary())\n",
    "\n",
    "# plot a bar graph with house_size on the y axis and male on the x axis\n",
    "sns.barplot(x=x, y=y, data=df)\n",
    "\n",
    "# find the average house size\n",
    "avg: float = df.loc[(df[\"male\"] == 1.0)]\n",
    "avg_female = df.loc[(df[\"male\"] == 0.0)]\n",
    "print(avg[\"str\"].mean())\n",
    "print(avg_female[\"str\"].mean())"
   ]
  },
  {
   "cell_type": "code",
   "execution_count": 120,
   "metadata": {},
   "outputs": [
    {
     "name": "stdout",
     "output_type": "stream",
     "text": [
      "96.0% confidence interval:                   0          1\n",
      "Intercept  9.997845  10.133723\n",
      "male       9.997845  10.133723\n"
     ]
    }
   ],
   "source": [
    "# find the 96.0% confidence interval for all\n",
    "y = avg[\"str\"]\n",
    "x = avg[\"male\"]\n",
    "model = smf.ols(formula=\"str ~ male\", data=avg).fit(cov_type='HC3', fit_intercept=False, C=100000)\n",
    "conf_int: np.ndarray = model.conf_int(1 - 0.96)\n",
    "print(f\"96.0% confidence interval: {conf_int}\")"
   ]
  },
  {
   "cell_type": "markdown",
   "metadata": {},
   "source": [
    "# Qns 19\n",
    "\n",
    "You are also interested to know whether family size (as measured by number of people living in students’ households) differs by student gender. Run a regression which will allow you to examine this. Remember to include heteroskedasticity robust standard errors. What do your results tell you?"
   ]
  },
  {
   "cell_type": "code",
   "execution_count": 116,
   "metadata": {},
   "outputs": [
    {
     "name": "stdout",
     "output_type": "stream",
     "text": [
      "                            OLS Regression Results                            \n",
      "==============================================================================\n",
      "Dep. Variable:             house_size   R-squared:                       0.001\n",
      "Model:                            OLS   Adj. R-squared:                  0.000\n",
      "Method:                 Least Squares   F-statistic:                     4.969\n",
      "Date:                Mon, 28 Feb 2022   Prob (F-statistic):             0.0258\n",
      "Time:                        16:56:12   Log-Likelihood:                -15852.\n",
      "No. Observations:                9789   AIC:                         3.171e+04\n",
      "Df Residuals:                    9787   BIC:                         3.172e+04\n",
      "Df Model:                           1                                         \n",
      "Covariance Type:                  HC3                                         \n",
      "==============================================================================\n",
      "                 coef    std err          z      P>|z|      [0.025      0.975]\n",
      "------------------------------------------------------------------------------\n",
      "Intercept      4.5926      0.017    265.066      0.000       4.559       4.627\n",
      "male          -0.0551      0.025     -2.229      0.026      -0.104      -0.007\n",
      "==============================================================================\n",
      "Omnibus:                     1865.319   Durbin-Watson:                   1.880\n",
      "Prob(Omnibus):                  0.000   Jarque-Bera (JB):             4542.999\n",
      "Skew:                           1.062   Prob(JB):                         0.00\n",
      "Kurtosis:                       5.574   Cond. No.                         2.61\n",
      "==============================================================================\n",
      "\n",
      "Notes:\n",
      "[1] Standard Errors are heteroscedasticity robust (HC3)\n",
      "4.537561416625977\n",
      "4.59263801574707\n"
     ]
    },
    {
     "data": {
      "image/png": "[encoded data removed]",
      "text/plain": [
       "<Figure size 842.4x595.44 with 1 Axes>"
      ]
     },
     "metadata": {},
     "output_type": "display_data"
    }
   ],
   "source": [
    "y = df[\"house_size\"]\n",
    "x = df[\"male\"]\n",
    "model = smf.ols(formula=\"house_size ~ male\", data=df).fit(cov_type='HC3', fit_intercept=False, C=100000)\n",
    "print(model.summary())\n",
    "\n",
    "# plot a bar graph with house_size on the y axis and male on the x axis\n",
    "sns.barplot(x=x, y=y, data=df)\n",
    "\n",
    "# find the average house size\n",
    "avg: float = df.loc[(df[\"male\"] == 1.0)]\n",
    "avg_female = df.loc[(df[\"male\"] == 0.0)]\n",
    "print(avg[\"house_size\"].mean())\n",
    "print(avg_female[\"house_size\"].mean())"
   ]
  },
  {
   "cell_type": "markdown",
   "metadata": {},
   "source": [
    "# Qns 20\n",
    "\n",
    "You run a regression of math test score on a binary variable indicating whether or not the student lives with both parents. The Standard Error of the Regression is 0.98896. Suppose the math scores in the dataset are now divided by a factor of 700 (i.e. a math score of 1 now becomes 0.00142857). What will the new Standard Error of the Regression be?  Round your answer to 3 significant figures."
   ]
  },
  {
   "cell_type": "code",
   "execution_count": 96,
   "metadata": {},
   "outputs": [
    {
     "name": "stdout",
     "output_type": "stream",
     "text": [
      "                            OLS Regression Results                            \n",
      "==============================================================================\n",
      "Dep. Variable:               math_scr   R-squared:                       0.007\n",
      "Model:                            OLS   Adj. R-squared:                  0.007\n",
      "Method:                 Least Squares   F-statistic:                     73.70\n",
      "Date:                Mon, 28 Feb 2022   Prob (F-statistic):           1.05e-17\n",
      "Time:                        16:39:36   Log-Likelihood:                -13780.\n",
      "No. Observations:                9789   AIC:                         2.756e+04\n",
      "Df Residuals:                    9787   BIC:                         2.758e+04\n",
      "Df Model:                           1                                         \n",
      "Covariance Type:                  HC3                                         \n",
      "===================================================================================\n",
      "                      coef    std err          z      P>|z|      [0.025      0.975]\n",
      "-----------------------------------------------------------------------------------\n",
      "Intercept          -0.1196      0.020     -6.024      0.000      -0.159      -0.081\n",
      "livewithparents     0.1973      0.023      8.585      0.000       0.152       0.242\n",
      "==============================================================================\n",
      "Omnibus:                      661.982   Durbin-Watson:                   1.555\n",
      "Prob(Omnibus):                  0.000   Jarque-Bera (JB):              231.835\n",
      "Skew:                          -0.025   Prob(JB):                     4.55e-51\n",
      "Kurtosis:                       2.248   Cond. No.                         3.80\n",
      "==============================================================================\n",
      "\n",
      "Notes:\n",
      "[1] Standard Errors are heteroscedasticity robust (HC3)\n"
     ]
    }
   ],
   "source": [
    "new_df = df.copy()\n",
    "new_df[\"math_scr\"] = new_df[\"math_scr\"] / 700\n",
    "\n",
    "# run a regression of math_scr on livewithparents\n",
    "y = df[\"math_scr\"]\n",
    "x = df[\"livewithparents\"]\n",
    "model = smf.ols(formula=\"math_scr ~ livewithparents\", data=df).fit(cov_type='HC3', fit_intercept=False, C=100000)\n",
    "print(model.summary())"
   ]
  },
  {
   "cell_type": "code",
   "execution_count": 95,
   "metadata": {},
   "outputs": [
    {
     "name": "stdout",
     "output_type": "stream",
     "text": [
      "                            OLS Regression Results                            \n",
      "==============================================================================\n",
      "Dep. Variable:               math_scr   R-squared:                       0.007\n",
      "Model:                            OLS   Adj. R-squared:                  0.007\n",
      "Method:                 Least Squares   F-statistic:                     73.70\n",
      "Date:                Mon, 28 Feb 2022   Prob (F-statistic):           1.05e-17\n",
      "Time:                        16:39:25   Log-Likelihood:                 50348.\n",
      "No. Observations:                9789   AIC:                        -1.007e+05\n",
      "Df Residuals:                    9787   BIC:                        -1.007e+05\n",
      "Df Model:                           1                                         \n",
      "Covariance Type:                  HC3                                         \n",
      "===================================================================================\n",
      "                      coef    std err          z      P>|z|      [0.025      0.975]\n",
      "-----------------------------------------------------------------------------------\n",
      "Intercept          -0.0002   2.84e-05     -6.024      0.000      -0.000      -0.000\n",
      "livewithparents     0.0003   3.28e-05      8.585      0.000       0.000       0.000\n",
      "==============================================================================\n",
      "Omnibus:                      661.982   Durbin-Watson:                   1.555\n",
      "Prob(Omnibus):                  0.000   Jarque-Bera (JB):              231.835\n",
      "Skew:                          -0.025   Prob(JB):                     4.55e-51\n",
      "Kurtosis:                       2.248   Cond. No.                         3.80\n",
      "==============================================================================\n",
      "\n",
      "Notes:\n",
      "[1] Standard Errors are heteroscedasticity robust (HC3)\n",
      "Intercept          0.019857\n",
      "livewithparents    0.022981\n",
      "dtype: float64\n"
     ]
    }
   ],
   "source": [
    "new_model = smf.ols(formula=\"math_scr ~ livewithparents\", data=new_df).fit(cov_type='HC3', fit_intercept=False, C=100000)\n",
    "print(new_model.summary())\n",
    "# find new_model standard errors\n",
    "print(new_model.bse * 700)"
   ]
  }
 ],
 "metadata": {
  "interpreter": {
   "hash": "219dc817421b9ce06405e05c9922e5826fb065636fd3809d5bed4cec56f8c011"
  },
  "kernelspec": {
   "display_name": "Python 3.8.5 ('base')",
   "language": "python",
   "name": "python3"
  },
  "language_info": {
   "codemirror_mode": {
    "name": "ipython",
    "version": 3
   },
   "file_extension": ".py",
   "mimetype": "text/x-python",
   "name": "python",
   "nbconvert_exporter": "python",
   "pygments_lexer": "ipython3",
   "version": "3.8.5"
  },
  "orig_nbformat": 4
 },
 "nbformat": 4,
 "nbformat_minor": 2
}
