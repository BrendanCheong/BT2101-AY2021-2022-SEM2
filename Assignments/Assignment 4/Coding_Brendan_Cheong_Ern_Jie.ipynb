{
 "cells": [
  {
   "cell_type": "code",
   "execution_count": 14,
   "metadata": {},
   "outputs": [],
   "source": [
    "import numpy as np\n",
    "import scipy as sp\n",
    "import statsmodels.formula.api as smf\n",
    "import statsmodels.api as sm\n",
    "import pandas as pd\n",
    "import seaborn as sns\n",
    "import wooldridge\n",
    "import math\n",
    "from typing import *\n",
    "from statsmodels.tools.eval_measures import rmse\n",
    "sns.set(rc={'figure.figsize':(11.7,8.27)})"
   ]
  },
  {
   "cell_type": "markdown",
   "metadata": {},
   "source": [
    "# Qns 1\n",
    "\n",
    "$Pr(\\hat{deny} | P/I\\ ratio, black)$ = $F(-4.13 + 5.37 * P/I\\ ratio + 1.27 * black) $\n",
    "\n",
    "a) Repeat Week 9 slide example 1) and 2) for a white applicant."
   ]
  },
  {
   "cell_type": "code",
   "execution_count": 15,
   "metadata": {},
   "outputs": [
    {
     "name": "stdout",
     "output_type": "stream",
     "text": [
      "9.530634465210209\n",
      "7.4536896971794455\n",
      "difference between 0.30 and 0.35 is 2.0769447680307636\n"
     ]
    }
   ],
   "source": [
    "PI_RATIO: float = 0.35\n",
    "black: int = 0\n",
    "def F(PI_RATIO: float, black: int) -> float:\n",
    "    expo :float = -4.13 + 5.37 * (PI_RATIO) + 1.27 * (black)\n",
    "    return 1 / (1 + math.exp(-expo))\n",
    "first: float = F(PI_RATIO, 0) * 100\n",
    "print(first)\n",
    "# print(F(PI_RATIO, 1))\n",
    "# print(f\"difference abs: {abs(F(PI_RATIO, 0) - F(PI_RATIO, 1))} when PI_RATIO is 0.35\")\n",
    "PI_RATIO = 0.30\n",
    "second: float = F(PI_RATIO, 0) * 100\n",
    "print(second)\n",
    "print(f\"difference between 0.30 and 0.35 is {abs(second - first)}\")\n",
    "# print(F(PI_RATIO, 1))\n",
    "# print(f\"difference abs: {abs(F(PI_RATIO, 0) - F(PI_RATIO, 1))} when PI_RATIO is 0.30\")"
   ]
  },
  {
   "cell_type": "markdown",
   "metadata": {},
   "source": [
    "b) Does the marginal effect of the P/I ratio on the probability of mortgage denial depend on\n",
    "race? Explain."
   ]
  },
  {
   "cell_type": "code",
   "execution_count": 16,
   "metadata": {},
   "outputs": [
    {
     "name": "stdout",
     "output_type": "stream",
     "text": [
      "0.35 for white percent: 9.530634465210209 vs for black percent: 27.27925839964312\n",
      "0.30 for white percent: 7.4536896971794455 vs for black percent: 22.287329161311593\n",
      "difference in 0.30 and 0.35 for black percent: 4.991929238331526\n"
     ]
    }
   ],
   "source": [
    "PI_RATIO = 0.35\n",
    "black_35: float = F(PI_RATIO, 1) * 100\n",
    "PI_RATIO = 0.30\n",
    "black_30: float = F(PI_RATIO, 1) * 100\n",
    "print(f\"0.35 for white percent: {first} vs for black percent: {black_35}\")\n",
    "print(f\"0.30 for white percent: {second} vs for black percent: {black_30}\")\n",
    "print(f\"difference in 0.30 and 0.35 for black percent: {abs(black_30 - black_35)}\")"
   ]
  },
  {
   "cell_type": "markdown",
   "metadata": {},
   "source": [
    "c) Let’s suppose that the model of mortgage denial regression model result shows the coefficient\n",
    "on black is 0.084. What is the implicit meaning of this coefficient?"
   ]
  },
  {
   "cell_type": "code",
   "execution_count": 17,
   "metadata": {},
   "outputs": [
    {
     "name": "stdout",
     "output_type": "stream",
     "text": [
      "percentage probability increase 8.76288938088261%\n"
     ]
    }
   ],
   "source": [
    "print(f\"percentage probability increase {((math.exp(0.084) - 1) * 100)}%\")"
   ]
  }
 ],
 "metadata": {
  "interpreter": {
   "hash": "219dc817421b9ce06405e05c9922e5826fb065636fd3809d5bed4cec56f8c011"
  },
  "kernelspec": {
   "display_name": "Python 3.8.5 ('base')",
   "language": "python",
   "name": "python3"
  },
  "language_info": {
   "codemirror_mode": {
    "name": "ipython",
    "version": 3
   },
   "file_extension": ".py",
   "mimetype": "text/x-python",
   "name": "python",
   "nbconvert_exporter": "python",
   "pygments_lexer": "ipython3",
   "version": "3.8.5"
  },
  "orig_nbformat": 4
 },
 "nbformat": 4,
 "nbformat_minor": 2
}
