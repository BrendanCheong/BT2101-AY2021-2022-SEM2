{
 "cells": [
  {
   "cell_type": "code",
   "execution_count": 16,
   "metadata": {},
   "outputs": [],
   "source": [
    "import numpy as np\n",
    "import scipy as sp\n",
    "import statsmodels.formula.api as smf\n",
    "import statsmodels.api as sm\n",
    "import pandas as pd\n",
    "import seaborn as sns\n",
    "from statsmodels.tools.eval_measures import rmse\n",
    "sns.set(rc={'figure.figsize':(11.7,8.27)})\n",
    "money_df = pd.read_csv(\"money_ball.csv\")\n",
    "soap_df = pd.read_csv(\"soap_data.csv\")"
   ]
  },
  {
   "cell_type": "markdown",
   "metadata": {},
   "source": [
    "# Problem 1\n",
    "\n",
    "Researchers structure the hypothesis and measure the statistical association between AI robot adoption and spending (spending per visit). They collect the data from one of the biggest chains in India. Specifically, they collect spending per visit and the total time of AI robot exposure by customer. Researchers leverage the OLS model to measure the association between AI robot adoption and spending. \n",
    "\n",
    "1. Based on the table, can we say that AI robot adoption has a positive association with spending? If so, why? \n",
    "2. In measuring the impact of AI robot adoption, is there a potential for endogeneity issue? If so, describe two potential endogeneity issues. "
   ]
  },
  {
   "cell_type": "markdown",
   "metadata": {},
   "source": [
    "# Answers:\n",
    "\n",
    "1. We can say that AI robot adoption has a positive association with spending. This is because the p-value of the coefficient of the independent variable is less than 0.01, which implies significance as the odds that the positive association is false is 1%. Moreover, it’s a positive association as the AI Exposure time of 5.563 is > 0 so it’s a positive relationship.\n",
    "</br>\n",
    "</br>\n",
    "2. It is possible to encounter potential endogeneity issues such as omitted independent variables and measurement error. There might be observed or unobserved independent variables that can be included in the model.  The spending per visit of the customer might be influenced by factors such as time or occasion during the visit or promotions. The time of AI robot exposure by customer might also be correlated to the appearance of the AI robot or its user interface.  It is also possible that measurement error such as coding or reporting error to arise though it is highly unlikely if the time of AI robot exposure is generated automatically.\n"
   ]
  },
  {
   "cell_type": "markdown",
   "metadata": {},
   "source": [
    "# Problem 2\n",
    "\n",
    "One argues that there is no association between height and weight of soap; however, others argue that there is a relationship. Structure the hypothesis and make a statistical decision regarding these two arguments. When making a decision, consider the p-value for the statistical significance of the coefficient. Can we say that there is an association between height and the weight of soap? If so, why? "
   ]
  },
  {
   "cell_type": "code",
   "execution_count": 17,
   "metadata": {},
   "outputs": [
    {
     "name": "stdout",
     "output_type": "stream",
     "text": [
      "H0: r = 0, no linear relationship between height and weight\n",
      "H1: r != 0, there is a linear relationship between height and weight\n",
      "LinregressResult(slope=0.8948675089720269, intercept=31.36192910869672, rvalue=0.20089209823905532, pvalue=0.02847153625689316, stderr=0.4034202185967116)\n",
      "\n",
      "\n",
      "We can say that there is a positive correlation between soap_weight and soap_height as the rvalue is more than 0\n",
      "However, the relation between the 2 datasets is not very strong as the rvalue of 0.20089209823905532 is less than 0.5\n",
      "Given that the pvalue of 0.02847153625689316 is less than 0.05, we reject the null hypothesis that the correlation between soap_weight and soap_height is not significant and accept the alternative hypothesis that the relation between weight and height is significant\n",
      "\n",
      "This shows that there is a positive association between height and weight\n"
     ]
    }
   ],
   "source": [
    "print(f\"H0: r = 0, no linear relationship between height and weight\")\n",
    "print(f\"H1: r != 0, there is a linear relationship between height and weight\")\n",
    "\n",
    "weight = soap_df[\"soap_weight\"]\n",
    "height = soap_df[\"soap_height\"]\n",
    "regression = sp.stats.linregress(weight, height)\n",
    "print(regression)\n",
    "print('\\n')\n",
    "print(f\"We can say that there is a { 'positive' if regression.rvalue > 0 else 'negative'} correlation between soap_weight and soap_height as the rvalue is more than 0\")\n",
    "print(f\"However, the relation between the 2 datasets is not very strong as the rvalue of {regression.rvalue} is less than 0.5\")\n",
    "print(f\"Given that the pvalue of {regression.pvalue} is less than 0.05, we reject the null hypothesis that the correlation between soap_weight and soap_height is not significant and accept the alternative hypothesis that the relation between weight and height is significant\\n\")\n",
    "\n",
    "print(\"This shows that there is a positive association between height and weight\")"
   ]
  },
  {
   "cell_type": "markdown",
   "metadata": {},
   "source": [
    "# Problem 3\n",
    "\n",
    "Assume that you are Oakland Athletics general manager Billy Beane and want to use statistics to maximize the number of winnings. The coaching team argues that the batting average has an association with the number of winning. Structure the hypothesis and make a statistical decision regarding this argument. As a manager, are you plan to make a contract with a player with has a high batting average? If so, why? Or Why not? "
   ]
  },
  {
   "cell_type": "code",
   "execution_count": 18,
   "metadata": {},
   "outputs": [
    {
     "name": "stdout",
     "output_type": "stream",
     "text": [
      "H0: r = 0.05, no linear relationship between batting and winning\n",
      "H1: r != 0.05, there is a linear relationship between batting and winning\n",
      "\n",
      "coefficient correlation r-value: 94.23269128167318\n",
      "p-value: 0.02528424569704611\n",
      "\n",
      "                            OLS Regression Results                            \n",
      "==============================================================================\n",
      "Dep. Variable:                   wins   R-squared:                       0.044\n",
      "Model:                            OLS   Adj. R-squared:                  0.035\n",
      "Method:                 Least Squares   F-statistic:                     5.141\n",
      "Date:                Sun, 13 Feb 2022   Prob (F-statistic):             0.0253\n",
      "Time:                        22:30:52   Log-Likelihood:                -339.69\n",
      "No. Observations:                 114   AIC:                             683.4\n",
      "Df Residuals:                     112   BIC:                             688.9\n",
      "Df Model:                           1                                         \n",
      "Covariance Type:            nonrobust                                         \n",
      "==============================================================================\n",
      "                 coef    std err          t      P>|t|      [0.025      0.975]\n",
      "------------------------------------------------------------------------------\n",
      "Intercept     69.1297     11.190      6.178      0.000      46.957      91.302\n",
      "bataverage    94.2327     41.560      2.267      0.025      11.887     176.578\n",
      "==============================================================================\n",
      "Omnibus:                       12.031   Durbin-Watson:                   1.729\n",
      "Prob(Omnibus):                  0.002   Jarque-Bera (JB):               19.666\n",
      "Skew:                           0.463   Prob(JB):                     5.37e-05\n",
      "Kurtosis:                       4.812   Cond. No.                         99.0\n",
      "==============================================================================\n",
      "\n",
      "Notes:\n",
      "[1] Standard Errors assume that the covariance matrix of the errors is correctly specified.\n",
      "RMSE = 4.762583122252818\n"
     ]
    }
   ],
   "source": [
    "print(f\"H0: r = 0.05, no linear relationship between batting and winning\")\n",
    "print(f\"H1: r != 0.05, there is a linear relationship between batting and winning\\n\")\n",
    "beta = money_df[\"bataverage\"]\n",
    "wins = money_df[\"wins\"]\n",
    "# NOTE: low R square or adjusted R square means poor association (below 0.4), a low positive r-value means poor association also (below 0.5)\n",
    "# NOTE: a high RMSE of > 0.5 means that there is poor association as there are many deviations from the best fit line\n",
    "\n",
    "regression = sp.stats.linregress(beta, wins)\n",
    "print(f\"coefficient correlation r-value: {regression.slope}\")\n",
    "print(f\"p-value: {regression.pvalue}\\n\")\n",
    "\n",
    "lm = smf.ols(formula=\"wins ~ bataverage\", data=money_df).fit()\n",
    "print(lm.summary())\n",
    "predictions = lm.predict(beta)\n",
    "print(f\"RMSE = {rmse(wins, predictions)}\")"
   ]
  },
  {
   "cell_type": "code",
   "execution_count": 19,
   "metadata": {},
   "outputs": [
    {
     "name": "stdout",
     "output_type": "stream",
     "text": [
      "As a general manager, I want to maximize my wins and I am hoping to see if there is a correlation between the number of wins and the number of the number of bating average\n",
      "However, only 3.5% of the the wins can be explained by a batting average, meaning that there's not enough conclusive evidence to justify making a contract with high batting average players, as the association with batting average to wins is very weak.\n"
     ]
    }
   ],
   "source": [
    "print(\"As a general manager, I want to maximize my wins and I am hoping to see if there is a correlation between the number of wins and the number of the number of bating average\")\n",
    "print(\"However, only 3.5% of the the wins can be explained by a batting average, meaning that there's not enough conclusive evidence to justify making a contract with high batting average players, as the association with batting average to wins is very weak.\")"
   ]
  },
  {
   "cell_type": "code",
   "execution_count": 20,
   "metadata": {},
   "outputs": [
    {
     "data": {
      "text/plain": [
       "<AxesSubplot:xlabel='bataverage', ylabel='wins'>"
      ]
     },
     "execution_count": 20,
     "metadata": {},
     "output_type": "execute_result"
    },
    {
     "data": {
      "image/png": "[encoded data removed]",
      "text/plain": [
       "<Figure size 842.4x595.44 with 1 Axes>"
      ]
     },
     "metadata": {},
     "output_type": "display_data"
    }
   ],
   "source": [
    "sns.regplot(x=beta, y=wins, data=money_df)"
   ]
  }
 ],
 "metadata": {
  "interpreter": {
   "hash": "219dc817421b9ce06405e05c9922e5826fb065636fd3809d5bed4cec56f8c011"
  },
  "kernelspec": {
   "display_name": "Python 3.8.5 ('base')",
   "language": "python",
   "name": "python3"
  },
  "language_info": {
   "codemirror_mode": {
    "name": "ipython",
    "version": 3
   },
   "file_extension": ".py",
   "mimetype": "text/x-python",
   "name": "python",
   "nbconvert_exporter": "python",
   "pygments_lexer": "ipython3",
   "version": "3.8.5"
  },
  "orig_nbformat": 4
 },
 "nbformat": 4,
 "nbformat_minor": 2
}
