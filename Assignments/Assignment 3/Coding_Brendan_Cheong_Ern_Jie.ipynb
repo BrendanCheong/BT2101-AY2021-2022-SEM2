{
 "cells": [
  {
   "cell_type": "code",
   "execution_count": 2,
   "metadata": {},
   "outputs": [
    {
     "data": {
      "text/html": [
       "<div>\n",
       "<style scoped>\n",
       "    .dataframe tbody tr th:only-of-type {\n",
       "        vertical-align: middle;\n",
       "    }\n",
       "\n",
       "    .dataframe tbody tr th {\n",
       "        vertical-align: top;\n",
       "    }\n",
       "\n",
       "    .dataframe thead th {\n",
       "        text-align: right;\n",
       "    }\n",
       "</style>\n",
       "<table border=\"1\" class=\"dataframe\">\n",
       "  <thead>\n",
       "    <tr style=\"text-align: right;\">\n",
       "      <th></th>\n",
       "      <th>faminc</th>\n",
       "      <th>bwght</th>\n",
       "      <th>fatheduc</th>\n",
       "      <th>motheduc</th>\n",
       "      <th>male</th>\n",
       "      <th>white</th>\n",
       "      <th>cigs</th>\n",
       "    </tr>\n",
       "  </thead>\n",
       "  <tbody>\n",
       "    <tr>\n",
       "      <th>0</th>\n",
       "      <td>13.5</td>\n",
       "      <td>109</td>\n",
       "      <td>12.0</td>\n",
       "      <td>12.0</td>\n",
       "      <td>1</td>\n",
       "      <td>1</td>\n",
       "      <td>0</td>\n",
       "    </tr>\n",
       "    <tr>\n",
       "      <th>1</th>\n",
       "      <td>7.5</td>\n",
       "      <td>133</td>\n",
       "      <td>6.0</td>\n",
       "      <td>12.0</td>\n",
       "      <td>1</td>\n",
       "      <td>0</td>\n",
       "      <td>0</td>\n",
       "    </tr>\n",
       "    <tr>\n",
       "      <th>2</th>\n",
       "      <td>0.5</td>\n",
       "      <td>129</td>\n",
       "      <td>NaN</td>\n",
       "      <td>12.0</td>\n",
       "      <td>0</td>\n",
       "      <td>0</td>\n",
       "      <td>0</td>\n",
       "    </tr>\n",
       "    <tr>\n",
       "      <th>3</th>\n",
       "      <td>15.5</td>\n",
       "      <td>126</td>\n",
       "      <td>12.0</td>\n",
       "      <td>12.0</td>\n",
       "      <td>1</td>\n",
       "      <td>0</td>\n",
       "      <td>0</td>\n",
       "    </tr>\n",
       "    <tr>\n",
       "      <th>4</th>\n",
       "      <td>27.5</td>\n",
       "      <td>134</td>\n",
       "      <td>14.0</td>\n",
       "      <td>12.0</td>\n",
       "      <td>1</td>\n",
       "      <td>1</td>\n",
       "      <td>0</td>\n",
       "    </tr>\n",
       "    <tr>\n",
       "      <th>...</th>\n",
       "      <td>...</td>\n",
       "      <td>...</td>\n",
       "      <td>...</td>\n",
       "      <td>...</td>\n",
       "      <td>...</td>\n",
       "      <td>...</td>\n",
       "      <td>...</td>\n",
       "    </tr>\n",
       "    <tr>\n",
       "      <th>1383</th>\n",
       "      <td>27.5</td>\n",
       "      <td>110</td>\n",
       "      <td>12.0</td>\n",
       "      <td>12.0</td>\n",
       "      <td>1</td>\n",
       "      <td>1</td>\n",
       "      <td>0</td>\n",
       "    </tr>\n",
       "    <tr>\n",
       "      <th>1384</th>\n",
       "      <td>5.5</td>\n",
       "      <td>146</td>\n",
       "      <td>NaN</td>\n",
       "      <td>16.0</td>\n",
       "      <td>1</td>\n",
       "      <td>1</td>\n",
       "      <td>0</td>\n",
       "    </tr>\n",
       "    <tr>\n",
       "      <th>1385</th>\n",
       "      <td>65.0</td>\n",
       "      <td>135</td>\n",
       "      <td>18.0</td>\n",
       "      <td>16.0</td>\n",
       "      <td>0</td>\n",
       "      <td>1</td>\n",
       "      <td>0</td>\n",
       "    </tr>\n",
       "    <tr>\n",
       "      <th>1386</th>\n",
       "      <td>27.5</td>\n",
       "      <td>118</td>\n",
       "      <td>NaN</td>\n",
       "      <td>14.0</td>\n",
       "      <td>0</td>\n",
       "      <td>1</td>\n",
       "      <td>0</td>\n",
       "    </tr>\n",
       "    <tr>\n",
       "      <th>1387</th>\n",
       "      <td>37.5</td>\n",
       "      <td>111</td>\n",
       "      <td>16.0</td>\n",
       "      <td>13.0</td>\n",
       "      <td>0</td>\n",
       "      <td>1</td>\n",
       "      <td>0</td>\n",
       "    </tr>\n",
       "  </tbody>\n",
       "</table>\n",
       "<p>1388 rows × 7 columns</p>\n",
       "</div>"
      ],
      "text/plain": [
       "      faminc  bwght  fatheduc  motheduc  male  white  cigs\n",
       "0       13.5    109      12.0      12.0     1      1     0\n",
       "1        7.5    133       6.0      12.0     1      0     0\n",
       "2        0.5    129       NaN      12.0     0      0     0\n",
       "3       15.5    126      12.0      12.0     1      0     0\n",
       "4       27.5    134      14.0      12.0     1      1     0\n",
       "...      ...    ...       ...       ...   ...    ...   ...\n",
       "1383    27.5    110      12.0      12.0     1      1     0\n",
       "1384     5.5    146       NaN      16.0     1      1     0\n",
       "1385    65.0    135      18.0      16.0     0      1     0\n",
       "1386    27.5    118       NaN      14.0     0      1     0\n",
       "1387    37.5    111      16.0      13.0     0      1     0\n",
       "\n",
       "[1388 rows x 7 columns]"
      ]
     },
     "execution_count": 2,
     "metadata": {},
     "output_type": "execute_result"
    }
   ],
   "source": [
    "import numpy as np\n",
    "import scipy as sp\n",
    "import statsmodels.formula.api as smf\n",
    "import statsmodels.api as sm\n",
    "import pandas as pd\n",
    "import seaborn as sns\n",
    "import wooldridge\n",
    "import math\n",
    "from typing import *\n",
    "from statsmodels.tools.eval_measures import rmse\n",
    "sns.set(rc={'figure.figsize':(11.7,8.27)})\n",
    "df = pd.read_csv(\"BT2101_week8_hw.csv\")\n",
    "df"
   ]
  },
  {
   "cell_type": "markdown",
   "metadata": {},
   "source": [
    "# Qns 1\n",
    "\n",
    "Get some summary statistics about the two variables “bwght” and “cigs” including their means \n",
    "and standard deviations. Does the variable “bwght” look like a normal random variable? Hint: a \n",
    "normal random variable is symmetric (skewness=0), and its kurtosis is equal to 3. "
   ]
  },
  {
   "cell_type": "code",
   "execution_count": 2,
   "metadata": {},
   "outputs": [
    {
     "name": "stdout",
     "output_type": "stream",
     "text": [
      "bwght skewness level: -0.14602351629957394\n",
      "bwght kurtosis level: 3.1633425253063665\n"
     ]
    }
   ],
   "source": [
    "print(f\"bwght skewness level: {df['bwght'].skew()}\")\n",
    "print(f\"bwght kurtosis level: {df['bwght'].kurt()}\")"
   ]
  },
  {
   "cell_type": "markdown",
   "metadata": {},
   "source": [
    "# Qns 2\n",
    "\n",
    " Get the correlation between the variables “bwght” and “cigs”. Is there a negative relationship \n",
    "between the two variables?"
   ]
  },
  {
   "cell_type": "code",
   "execution_count": 3,
   "metadata": {},
   "outputs": [
    {
     "name": "stdout",
     "output_type": "stream",
     "text": [
      "                            OLS Regression Results                            \n",
      "==============================================================================\n",
      "Dep. Variable:                  bwght   R-squared:                       0.023\n",
      "Model:                            OLS   Adj. R-squared:                  0.022\n",
      "Method:                 Least Squares   F-statistic:                     32.24\n",
      "Date:                Tue, 15 Mar 2022   Prob (F-statistic):           1.66e-08\n",
      "Time:                        18:27:24   Log-Likelihood:                -6135.5\n",
      "No. Observations:                1388   AIC:                         1.227e+04\n",
      "Df Residuals:                    1386   BIC:                         1.229e+04\n",
      "Df Model:                           1                                         \n",
      "Covariance Type:            nonrobust                                         \n",
      "==============================================================================\n",
      "                 coef    std err          t      P>|t|      [0.025      0.975]\n",
      "------------------------------------------------------------------------------\n",
      "Intercept    119.7719      0.572    209.267      0.000     118.649     120.895\n",
      "cigs          -0.5138      0.090     -5.678      0.000      -0.691      -0.336\n",
      "==============================================================================\n",
      "Omnibus:                      118.187   Durbin-Watson:                   1.924\n",
      "Prob(Omnibus):                  0.000   Jarque-Bera (JB):              635.742\n",
      "Skew:                          -0.156   Prob(JB):                    8.92e-139\n",
      "Kurtosis:                       6.301   Cond. No.                         6.72\n",
      "==============================================================================\n",
      "\n",
      "Notes:\n",
      "[1] Standard Errors assume that the covariance matrix of the errors is correctly specified.\n",
      "-0.5137720928233965\n"
     ]
    }
   ],
   "source": [
    "y = df['bwght']\n",
    "x = df['cigs']\n",
    "model = smf.ols(\"bwght ~ cigs\", data=df).fit()\n",
    "print(model.summary())\n",
    "print(model.params[1])\n",
    "# sns.regplot(x=x, y=y, data=df)"
   ]
  },
  {
   "cell_type": "markdown",
   "metadata": {},
   "source": [
    "# Qns 3\n",
    "\n",
    "Divide the data into two groups. In the first group, mothers don’t smoke during pregnancy, and \n",
    "in the second group, mothers smoke during pregnancy. Conduct a difference-in-mean test on these \n",
    "two  groups.  Investigate  whether  the  birth  weight  of  infants  from  the  first  group  is  statistically \n",
    "different from that of the second group."
   ]
  },
  {
   "cell_type": "code",
   "execution_count": 4,
   "metadata": {},
   "outputs": [
    {
     "name": "stdout",
     "output_type": "stream",
     "text": [
      "mothers with cigs mean birth rate: 111.14622641509433\n",
      "mothers without cigs mean birth rate: 120.06122448979592\n",
      "difference between mean birth rate with and without cigs: 8.914998074701586\n",
      "p-value: 3.362457867694957e-09\n"
     ]
    }
   ],
   "source": [
    "mean_cig: float = df[(df['cigs'] > 0)]['bwght'].mean()\n",
    "mean_no_cig: float = df[(df['cigs'] == 0)]['bwght'].mean()\n",
    "print(f\"mothers with cigs mean birth rate: {mean_cig}\")\n",
    "print(f\"mothers without cigs mean birth rate: {mean_no_cig}\")\n",
    "# print the difference\n",
    "print(f\"difference between mean birth rate with and without cigs: {mean_no_cig - mean_cig}\")\n",
    "# t-test\n",
    "no_cigs = df[(df['cigs'] == 0)]\n",
    "no_cigs_size = len(no_cigs)\n",
    "\n",
    "cigs = df[(df['cigs'] > 0)]\n",
    "\n",
    "cigs_size = len(cigs)\n",
    "t = (mean_no_cig - mean_cig) / math.sqrt(((df[(df['cigs'] == 0)]['bwght'].std())**2 / len(df[(df['cigs'] == 0)]) + ((df[(df['cigs'] > 0)]['bwght'].std())**2 / cigs_size)))\n",
    "df = min(cigs_size, no_cigs_size) - 1\n",
    "pvalue = (1 - sp.stats.t.cdf(t, df)) * 2\n",
    "print(f\"p-value: {pvalue}\")"
   ]
  },
  {
   "cell_type": "markdown",
   "metadata": {},
   "source": [
    "# Qns 4\n",
    "\n",
    "In this simple regression, what is the estimated effect of smoking on infant health? Is this effect \n",
    "large or small? Is it statistically significant the 5% level?  "
   ]
  },
  {
   "cell_type": "code",
   "execution_count": 3,
   "metadata": {},
   "outputs": [
    {
     "name": "stdout",
     "output_type": "stream",
     "text": [
      "p-values: 1.661538170263396e-08\n"
     ]
    }
   ],
   "source": [
    "model = smf.ols(\"bwght ~ cigs\", data=df).fit()\n",
    "model.summary()\n",
    "print(f\"p-values: {model.pvalues[1]}\")"
   ]
  },
  {
   "cell_type": "markdown",
   "metadata": {},
   "source": [
    "# Qns 5\n",
    "\n",
    "You  further  investigate  how much variation in “bwght” can be explained by “cigs”.  The  R-\n",
    "squared  turns  out  to  be  very  small.  Comment  on  this  statement:  since  the  R-squared  from  this \n",
    "simple regression is very small, smoking during pregnancy seems to be irrelevant to infant health; \n",
    "in other words, health officials (and others) shouldn’t devote any attention to this issue at all."
   ]
  },
  {
   "cell_type": "code",
   "execution_count": 4,
   "metadata": {},
   "outputs": [
    {
     "name": "stdout",
     "output_type": "stream",
     "text": [
      "r-squared amount: 0.022729121106052963\n"
     ]
    }
   ],
   "source": [
    "print(f\"r-squared amount: {model.rsquared}\")"
   ]
  },
  {
   "cell_type": "markdown",
   "metadata": {},
   "source": [
    "# Qns 6\n",
    "\n",
    "You suspect that the simple regression suffers an omitted variable bias problem. Based on the \n",
    "data, what are potential omitted variables? Why do they qualify as omitted variables?"
   ]
  },
  {
   "cell_type": "markdown",
   "metadata": {},
   "source": [
    "# Qns 7\n",
    "\n",
    "Run  a  multiple  regression  of  “bwght” on “cigs”, “faminc”, “fatheduc”,  “motheduc”, “male”, \n",
    "and  “white”.  What  is  the  new  estimated  effect  of  smoking  on  infant  health?  What  do  the \n",
    "coefficients of “male” and “white” tell you?  "
   ]
  },
  {
   "cell_type": "code",
   "execution_count": 5,
   "metadata": {},
   "outputs": [
    {
     "name": "stdout",
     "output_type": "stream",
     "text": [
      "                            OLS Regression Results                            \n",
      "==============================================================================\n",
      "Dep. Variable:                  bwght   R-squared:                       0.047\n",
      "Model:                            OLS   Adj. R-squared:                  0.042\n",
      "Method:                 Least Squares   F-statistic:                     9.798\n",
      "Date:                Tue, 15 Mar 2022   Prob (F-statistic):           1.47e-10\n",
      "Time:                        18:27:57   Log-Likelihood:                -5236.9\n",
      "No. Observations:                1191   AIC:                         1.049e+04\n",
      "Df Residuals:                    1184   BIC:                         1.052e+04\n",
      "Df Model:                           6                                         \n",
      "Covariance Type:            nonrobust                                         \n",
      "==============================================================================\n",
      "                 coef    std err          t      P>|t|      [0.025      0.975]\n",
      "------------------------------------------------------------------------------\n",
      "Intercept    113.0051      3.706     30.490      0.000     105.733     120.277\n",
      "cigs          -0.5909      0.110     -5.369      0.000      -0.807      -0.375\n",
      "faminc         0.0421      0.037      1.134      0.257      -0.031       0.115\n",
      "fatheduc       0.4361      0.282      1.548      0.122      -0.117       0.989\n",
      "motheduc      -0.4022      0.318     -1.265      0.206      -1.026       0.221\n",
      "male           3.7165      1.146      3.243      0.001       1.468       5.965\n",
      "white          4.5192      1.611      2.804      0.005       1.358       7.681\n",
      "==============================================================================\n",
      "Omnibus:                      122.146   Durbin-Watson:                   1.946\n",
      "Prob(Omnibus):                  0.000   Jarque-Bera (JB):              876.524\n",
      "Skew:                          -0.097   Prob(JB):                    4.63e-191\n",
      "Kurtosis:                       7.198   Cond. No.                         268.\n",
      "==============================================================================\n",
      "\n",
      "Notes:\n",
      "[1] Standard Errors assume that the covariance matrix of the errors is correctly specified.\n",
      "new cigarette coefficient: -0.5908699310797849\n",
      "new male coefficient: 3.716468348076219\n",
      "new white coefficient: 4.519182849586225\n"
     ]
    }
   ],
   "source": [
    "model = smf.ols(formula=f\"bwght ~ cigs + faminc + fatheduc + motheduc + male + white\", data=df).fit()\n",
    "print(model.summary())\n",
    "print(f\"new cigarette coefficient: {model.params[1]}\")\n",
    "print(f\"new male coefficient: {model.params[-2]}\")\n",
    "print(f\"new white coefficient: {model.params[-1]}\")"
   ]
  },
  {
   "cell_type": "markdown",
   "metadata": {},
   "source": [
    "# Qns 8\n",
    "\n",
    "Since “faminc”, “fatheduc”, “motheduc” are not individually significant  at the 5% level, you \n",
    "decide  to  conduct  a  test  with  the  null  that  these  three  variables  jointly  have  no  effect  on  infant \n",
    "health. What kind of test should you use? Can you reject the null at the 5% significant level? "
   ]
  },
  {
   "cell_type": "code",
   "execution_count": 6,
   "metadata": {},
   "outputs": [
    {
     "name": "stdout",
     "output_type": "stream",
     "text": [
      "                            OLS Regression Results                            \n",
      "==============================================================================\n",
      "Dep. Variable:                  bwght   R-squared:                       0.010\n",
      "Model:                            OLS   Adj. R-squared:                  0.007\n",
      "Method:                 Least Squares   F-statistic:                     3.846\n",
      "Date:                Tue, 15 Mar 2022   Prob (F-statistic):            0.00937\n",
      "Time:                        18:28:00   Log-Likelihood:                -5260.0\n",
      "No. Observations:                1191   AIC:                         1.053e+04\n",
      "Df Residuals:                    1187   BIC:                         1.055e+04\n",
      "Df Model:                           3                                         \n",
      "Covariance Type:            nonrobust                                         \n",
      "==============================================================================\n",
      "                 coef    std err          t      P>|t|      [0.025      0.975]\n",
      "------------------------------------------------------------------------------\n",
      "Intercept    113.2260      3.419     33.119      0.000     106.518     119.934\n",
      "faminc         0.0655      0.037      1.769      0.077      -0.007       0.138\n",
      "fatheduc       0.5512      0.286      1.925      0.054      -0.011       1.113\n",
      "motheduc      -0.2344      0.321     -0.730      0.466      -0.864       0.396\n",
      "==============================================================================\n",
      "Omnibus:                      113.112   Durbin-Watson:                   1.937\n",
      "Prob(Omnibus):                  0.000   Jarque-Bera (JB):              722.283\n",
      "Skew:                          -0.110   Prob(JB):                    1.44e-157\n",
      "Kurtosis:                       6.809   Cond. No.                         240.\n",
      "==============================================================================\n",
      "\n",
      "Notes:\n",
      "[1] Standard Errors assume that the covariance matrix of the errors is correctly specified.\n",
      "probability of the f statistic 0.00936777471269788\n"
     ]
    }
   ],
   "source": [
    "model = smf.ols(formula=\"bwght ~ faminc + fatheduc + motheduc\", data=df).fit()\n",
    "print(model.summary())\n",
    "print(f\"probability of the f statistic {model.f_pvalue}\")"
   ]
  },
  {
   "cell_type": "markdown",
   "metadata": {},
   "source": [
    "# Qns 9\n",
    "\n",
    "Although “faminc” is not significant, you still decide to include it in the regression to avoid the \n",
    "omitted variable bias. Higher income families tend to smoke higher quality cigarettes, which tend \n",
    "to have a less severe impact on the health of an infant, your further conjecture that the effects of \n",
    "smoking  on  infant  health  should  be  decreasing  with  the  family  income.  Run  a  regression  to \n",
    "incorporate this new conjecture, including all variables in question 8. Do you see such a decreasing \n",
    "effect in the regression? Is it statistically significant at the 5% level?"
   ]
  },
  {
   "cell_type": "code",
   "execution_count": 7,
   "metadata": {},
   "outputs": [
    {
     "name": "stdout",
     "output_type": "stream",
     "text": [
      "                            OLS Regression Results                            \n",
      "==============================================================================\n",
      "Dep. Variable:                  bwght   R-squared:                       0.034\n",
      "Model:                            OLS   Adj. R-squared:                  0.030\n",
      "Method:                 Least Squares   F-statistic:                     8.262\n",
      "Date:                Tue, 15 Mar 2022   Prob (F-statistic):           1.10e-07\n",
      "Time:                        18:28:02   Log-Likelihood:                -5245.3\n",
      "No. Observations:                1191   AIC:                         1.050e+04\n",
      "Df Residuals:                    1185   BIC:                         1.053e+04\n",
      "Df Model:                           5                                         \n",
      "Covariance Type:            nonrobust                                         \n",
      "===============================================================================\n",
      "                  coef    std err          t      P>|t|      [0.025      0.975]\n",
      "-------------------------------------------------------------------------------\n",
      "Intercept     118.2532      3.504     33.745      0.000     111.378     125.128\n",
      "cigs           -0.7872      0.218     -3.608      0.000      -1.215      -0.359\n",
      "faminc          0.0441      0.038      1.167      0.243      -0.030       0.118\n",
      "fatheduc        0.5025      0.283      1.773      0.076      -0.054       1.059\n",
      "motheduc       -0.4372      0.320     -1.367      0.172      -1.064       0.190\n",
      "faminc:cigs     0.0085      0.008      1.051      0.293      -0.007       0.024\n",
      "==============================================================================\n",
      "Omnibus:                      119.762   Durbin-Watson:                   1.934\n",
      "Prob(Omnibus):                  0.000   Jarque-Bera (JB):              817.345\n",
      "Skew:                          -0.124   Prob(JB):                    3.28e-178\n",
      "Kurtosis:                       7.051   Cond. No.                         909.\n",
      "==============================================================================\n",
      "\n",
      "Notes:\n",
      "[1] Standard Errors assume that the covariance matrix of the errors is correctly specified.\n",
      "coeff of the (famic * cigs): 0.00848563846260081\n",
      "p-value for the (faminc * cigs): 0.29345874159547103\n"
     ]
    }
   ],
   "source": [
    "model = smf.ols(formula=\"bwght ~ cigs + faminc + fatheduc + motheduc + (faminc * cigs)\", data=df).fit()\n",
    "print(model.summary())\n",
    "print(f\"coeff of the (famic * cigs): {model.params[-1]}\")\n",
    "print(f\"p-value for the (faminc * cigs): {model.pvalues[-1]}\")"
   ]
  },
  {
   "cell_type": "markdown",
   "metadata": {},
   "source": [
    "# Qns 10\n",
    "\n",
    "You suspect that the effect of  smoking on birth weight is stronger for infant boys (male=1) \n",
    "than for infant girls (male=0). Run a  multiple regression to incorporate  this effect,  including  all \n",
    "variables  in  question  8.  Does  the  regression  result  suggest  such  an  asymmetric  effect?  Is  it \n",
    "statistically significant at the 5% level?"
   ]
  },
  {
   "cell_type": "code",
   "execution_count": 8,
   "metadata": {},
   "outputs": [
    {
     "name": "stdout",
     "output_type": "stream",
     "text": [
      "                            OLS Regression Results                            \n",
      "==============================================================================\n",
      "Dep. Variable:                  bwght   R-squared:                       0.041\n",
      "Model:                            OLS   Adj. R-squared:                  0.036\n",
      "Method:                 Least Squares   F-statistic:                     8.432\n",
      "Date:                Tue, 15 Mar 2022   Prob (F-statistic):           5.59e-09\n",
      "Time:                        18:28:04   Log-Likelihood:                -5240.8\n",
      "No. Observations:                1191   AIC:                         1.050e+04\n",
      "Df Residuals:                    1184   BIC:                         1.053e+04\n",
      "Df Model:                           6                                         \n",
      "Covariance Type:            nonrobust                                         \n",
      "==============================================================================\n",
      "                 coef    std err          t      P>|t|      [0.025      0.975]\n",
      "------------------------------------------------------------------------------\n",
      "Intercept    116.2031      3.538     32.841      0.000     109.261     123.145\n",
      "cigs          -0.5674      0.151     -3.750      0.000      -0.864      -0.271\n",
      "faminc         0.0609      0.037      1.664      0.096      -0.011       0.133\n",
      "fatheduc       0.4736      0.283      1.676      0.094      -0.081       1.028\n",
      "motheduc      -0.4402      0.319     -1.380      0.168      -1.066       0.186\n",
      "male           3.6902      1.211      3.048      0.002       1.315       6.065\n",
      "male:cigs     -0.0201      0.215     -0.093      0.926      -0.442       0.402\n",
      "==============================================================================\n",
      "Omnibus:                      123.323   Durbin-Watson:                   1.955\n",
      "Prob(Omnibus):                  0.000   Jarque-Bera (JB):              890.612\n",
      "Skew:                          -0.107   Prob(JB):                    4.04e-194\n",
      "Kurtosis:                       7.231   Cond. No.                         253.\n",
      "==============================================================================\n",
      "\n",
      "Notes:\n",
      "[1] Standard Errors assume that the covariance matrix of the errors is correctly specified.\n",
      "p-value of (male * cigs): 0.9255457128676235\n",
      "-0.5875196792947183\n",
      "-0.5674173101639224\n"
     ]
    }
   ],
   "source": [
    "model = smf.ols(\"bwght ~ cigs + faminc + fatheduc + motheduc + (male * cigs)\", data = df).fit()\n",
    "print(model.summary())\n",
    "print(f\"p-value of (male * cigs): {model.pvalues[-1]}\")\n",
    "print(model.params[1] + model.params[-1])\n",
    "print(model.params[1])"
   ]
  }
 ],
 "metadata": {
  "interpreter": {
   "hash": "219dc817421b9ce06405e05c9922e5826fb065636fd3809d5bed4cec56f8c011"
  },
  "kernelspec": {
   "display_name": "Python 3.8.5 ('base')",
   "language": "python",
   "name": "python3"
  },
  "language_info": {
   "codemirror_mode": {
    "name": "ipython",
    "version": 3
   },
   "file_extension": ".py",
   "mimetype": "text/x-python",
   "name": "python",
   "nbconvert_exporter": "python",
   "pygments_lexer": "ipython3",
   "version": "3.8.5"
  },
  "orig_nbformat": 4
 },
 "nbformat": 4,
 "nbformat_minor": 2
}
