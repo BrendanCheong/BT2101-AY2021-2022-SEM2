{
 "cells": [
  {
   "cell_type": "code",
   "execution_count": 1,
   "metadata": {},
   "outputs": [],
   "source": [
    "import numpy as np\n",
    "import scipy as sp\n",
    "import statsmodels.formula.api as smf\n",
    "import statsmodels.api as sm\n",
    "import pandas as pd"
   ]
  },
  {
   "cell_type": "markdown",
   "metadata": {},
   "source": [
    "## Problem 1:\n",
    "We are using CREDIT data and are interested in purchases. The variable of interest is purchases (Y). Assume that you are the customer relation management (CRM) team manager and calculate the average purchase amount. If the average purchases are larger than 1,050 dollars, CRM will provide aggressive promotion to customers to make more strong bond between customers and the company. Using CREDIT data, calculate average purchases (in 95% CI) and make a decision regarding promotion (The information regarding CREDIT data set can be found in credit_code_info)"
   ]
  },
  {
   "cell_type": "code",
   "execution_count": 2,
   "metadata": {},
   "outputs": [],
   "source": [
    "df = pd.read_csv(\"credit.csv\")\n",
    "mean: float = df[\"PURCHASES\"].mean()\n",
    "std: float = df[\"PURCHASES\"].std(ddof=1)\n",
    "var: float = df[\"PURCHASES\"].var(ddof=1)\n",
    "# calculate the confidence interval for the population mean of the dataframe \"PURCHASES\" at 95% confidence level\n",
    "confidence_interval: tuple = sp.stats.norm.interval(alpha=0.95, loc=mean, scale=std / np.sqrt(df[\"PURCHASES\"].count()))"
   ]
  },
  {
   "cell_type": "code",
   "execution_count": 8,
   "metadata": {},
   "outputs": [
    {
     "name": "stdout",
     "output_type": "stream",
     "text": [
      "average purchase amount: 1003.2048335195564\n",
      "standard deviation: 2136.6347818728423\n",
      "variance: 4565208.191108808\n",
      "confidence interval: (958.9391813321109, 1047.4704857070017) \n",
      "\n"
     ]
    }
   ],
   "source": [
    "print(f\"average purchase amount: {mean}\")\n",
    "print(f\"standard deviation: {std}\")\n",
    "print(f\"variance: {var}\")\n",
    "print(f\"confidence interval: {confidence_interval} \\n\")"
   ]
  },
  {
   "cell_type": "markdown",
   "metadata": {},
   "source": [
    "# Problem 2:\n",
    "\n",
    "We are using US Part data (file name: part) and Total US data (file name: total). This data represents the number of illicit drug use death by county level in 2021. Assume that the U.S government uses US_Part data to calculate the average illicit drug use death (in 95% CI). Using the US Part data (file name: part) and Total US data (file name: total), calculate the average illicit drug use death (in 95% CI) by each dataset. If there is a difference in average illicit drug use death between the two datasets, describe the reason why there is a difference in average between the two data sets (Use the county_id, US_Part data, and Total US data)."
   ]
  },
  {
   "cell_type": "code",
   "execution_count": 4,
   "metadata": {},
   "outputs": [],
   "source": [
    "part_df = pd.read_csv(\"part.csv\")\n",
    "total_df = pd.read_csv(\"total.csv\")\n",
    "# Using the US Part data in the part_df dataframe, calculate the average illicit drug use death (in 95% CI) by each dataset.\n",
    "part_mean: float = part_df[\"illicit drug death\"].mean()\n",
    "part_std: float = part_df[\"illicit drug death\"].std(ddof=1)\n",
    "part_var: float = part_df[\"illicit drug death\"].var(ddof=1)\n",
    "# calculate the confidence interval for the population mean of the dataframe \"Illicit Drug Use Death\" at 95% confidence level\n",
    "part_confidence_interval: tuple = sp.stats.norm.interval(alpha=0.95, loc=part_mean, scale=part_std / np.sqrt(part_df[\"illicit drug death\"].count()))\n",
    "\n",
    "# Using the Total US data in the total_df dataframe, calculate the average illicit drug use death (in 95% CI) by each dataset.\n",
    "total_mean: float = total_df[\"illicit drug death\"].mean()\n",
    "total_std: float = total_df[\"illicit drug death\"].std(ddof=1)\n",
    "total_var: float = total_df[\"illicit drug death\"].var(ddof=1)\n",
    "# calculate the confidence interval for the population mean of the dataframe \"Illicit Drug Use Death\" at 95% confidence level\n",
    "total_confidence_interval: tuple = sp.stats.norm.interval(alpha=0.95, loc=total_mean, scale=total_std / np.sqrt(total_df[\"illicit drug death\"].count()))"
   ]
  },
  {
   "cell_type": "code",
   "execution_count": 9,
   "metadata": {},
   "outputs": [
    {
     "name": "stdout",
     "output_type": "stream",
     "text": [
      "part average deaths: 935.6884735202492\n",
      "part standard deviation: 3637.389681680803\n",
      "part variance: 13230603.696397971\n",
      "part confidence interval: (537.7779681051004, 1333.598978935398) \n",
      "\n",
      "total average deaths: 410.1196096946805\n",
      "total standard deviation: 1521.029347925526\n",
      "total variance: 2313530.277250751\n",
      "total confidence interval: (357.2291821909638, 463.0100371983972) \n",
      "\n"
     ]
    }
   ],
   "source": [
    "print(f\"part average deaths: {part_mean}\")\n",
    "print(f\"part standard deviation: {part_std}\")\n",
    "print(f\"part variance: {part_var}\")\n",
    "print(f\"part confidence interval: {part_confidence_interval} \\n\")\n",
    "\n",
    "print(f\"total average deaths: {total_mean}\")\n",
    "print(f\"total standard deviation: {total_std}\")\n",
    "print(f\"total variance: {total_var}\")\n",
    "print(f\"total confidence interval: {total_confidence_interval} \\n\")"
   ]
  }
 ],
 "metadata": {
  "interpreter": {
   "hash": "8a94588eda9d64d9e9a351ab8144e55b1fabf5113b54e67dd26a8c27df0381b3"
  },
  "kernelspec": {
   "display_name": "Python 3",
   "language": "python",
   "name": "python3"
  },
  "language_info": {
   "codemirror_mode": {
    "name": "ipython",
    "version": 3
   },
   "file_extension": ".py",
   "mimetype": "text/x-python",
   "name": "python",
   "nbconvert_exporter": "python",
   "pygments_lexer": "ipython3",
   "version": "3.8.5"
  }
 },
 "nbformat": 4,
 "nbformat_minor": 2
}
