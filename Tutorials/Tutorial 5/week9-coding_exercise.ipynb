{
 "cells": [
  {
   "cell_type": "code",
   "execution_count": 5,
   "metadata": {},
   "outputs": [],
   "source": [
    "# 1. Simulation model\n",
    "import pandas as pd\n",
    "import numpy as np\n",
    "import scipy.stats as stats\n",
    "import statsmodels.formula.api as smf\n",
    "import matplotlib.pyplot as plt"
   ]
  },
  {
   "cell_type": "code",
   "execution_count": 6,
   "metadata": {},
   "outputs": [
    {
     "data": {
      "text/plain": [
       "<matplotlib.legend.Legend at 0x28e1dba9f70>"
      ]
     },
     "execution_count": 6,
     "metadata": {},
     "output_type": "execute_result"
    },
    {
     "data": {
      "image/png": "[encoded data removed]",
      "text/plain": [
       "<Figure size 432x288 with 1 Axes>"
      ]
     },
     "metadata": {
      "needs_background": "light"
     },
     "output_type": "display_data"
    }
   ],
   "source": [
    "np.random.seed(1234567)\n",
    "\n",
    "y = stats.binom.rvs(1, 0.5, size=100)\n",
    "x = stats.norm.rvs(0, 1, size=100) +2*y\n",
    "sim_data = pd.DataFrame({'y': y, 'x': x})\n",
    "\n",
    "reg_lin = smf.ols(formula='y~x', data=sim_data)\n",
    "results_lin = reg_lin.fit()\n",
    "reg_logit = smf.logit(formula='y~x', data=sim_data)\n",
    "results_logit = reg_logit.fit(disp=0)\n",
    "reg_probit = smf.probit(formula='y~x', data=sim_data)\n",
    "results_probit = reg_probit.fit(disp=0)\n",
    "\n",
    "X_new = pd.DataFrame ({'x': np.linspace(min(x), max(x), 50)})\n",
    "predictions_lin = results_lin.predict(X_new)\n",
    "predictions_logit = results_logit.predict(X_new)\n",
    "predictions_probit = results_probit.predict(X_new)\n",
    "\n",
    "plt.plot (x, y, color='grey', marker='o', linestyle='')\n",
    "plt.plot (X_new['x'], predictions_lin, color='black', linestyle='-.', label='linear')\n",
    "plt.plot (X_new['x'], predictions_logit, color='black', linestyle='-', linewidth=0.5, label='logit')\n",
    "plt.plot (X_new['x'], predictions_probit, color='black', linestyle='--', label='probit')\n",
    "plt.ylabel('y')\n",
    "plt.xlabel('x')\n",
    "plt.xlabel('x')\n",
    "plt.legend()"
   ]
  },
  {
   "cell_type": "code",
   "execution_count": 7,
   "metadata": {},
   "outputs": [
    {
     "name": "stdout",
     "output_type": "stream",
     "text": [
      "table: \n",
      "                   b     se      t   pval\n",
      "Intercept      0.586  0.154  3.812  0.000\n",
      "nwifeinc      -0.003  0.002 -2.185  0.029\n",
      "educ           0.038  0.007  5.177  0.000\n",
      "exper          0.039  0.006  6.600  0.000\n",
      "I(exper ** 2) -0.001  0.000 -2.997  0.003\n",
      "age           -0.016  0.002 -6.664  0.000\n",
      "kidslt6       -0.262  0.032 -8.143  0.000\n",
      "kidsge6        0.013  0.014  0.953  0.341\n",
      "\n",
      "predictions: \n",
      "0   -0.410458\n",
      "1    1.042808\n",
      "dtype: float64\n",
      "\n"
     ]
    }
   ],
   "source": [
    "# 2. Linear model\n",
    "import wooldridge as woo\n",
    "import pandas as pd\n",
    "import statsmodels. formula.api as smf\n",
    "\n",
    "mroz = woo.dataWoo('mroz')\n",
    "\n",
    "reg_lin = smf.ols(formula = 'inlf ~ nwifeinc + educ + exper + I(exper**2) + age + kidslt6 + kidsge6', data=mroz)\n",
    "results_lin = reg_lin.fit(cov_type='HC3')\n",
    "\n",
    "table = pd.DataFrame ({'b': round(results_lin.params, 3),'se': round(results_lin.bse, 3),'t': round(results_lin.tvalues, 3), \n",
    "                     'pval': round(results_lin.pvalues, 3)})\n",
    "print (f'table: \\n{table}\\n')\n",
    "\n",
    "X_new = pd.DataFrame (\n",
    "    {'nwifeinc': [100, 0], 'educ': [5, 17], 'exper': [0,30] \n",
    "     ,'age': [20,52],'kidslt6': [2,0], 'kidsge6': [0,0]})\n",
    "predictions = results_lin.predict(X_new)\n",
    "print (f'predictions: \\n{predictions}\\n')"
   ]
  },
  {
   "cell_type": "code",
   "execution_count": 8,
   "metadata": {},
   "outputs": [
    {
     "name": "stdout",
     "output_type": "stream",
     "text": [
      "results_probit.summary(): \n",
      "                          Probit Regression Results                           \n",
      "==============================================================================\n",
      "Dep. Variable:                   inlf   No. Observations:                  753\n",
      "Model:                         Probit   Df Residuals:                      745\n",
      "Method:                           MLE   Df Model:                            7\n",
      "Date:                Tue, 15 Mar 2022   Pseudo R-squ.:                  0.2206\n",
      "Time:                        20:21:41   Log-Likelihood:                -401.30\n",
      "converged:                       True   LL-Null:                       -514.87\n",
      "Covariance Type:            nonrobust   LLR p-value:                 2.009e-45\n",
      "=================================================================================\n",
      "                    coef    std err          z      P>|z|      [0.025      0.975]\n",
      "---------------------------------------------------------------------------------\n",
      "Intercept         0.2701      0.509      0.531      0.595      -0.727       1.267\n",
      "nwifeinc         -0.0120      0.005     -2.484      0.013      -0.022      -0.003\n",
      "educ              0.1309      0.025      5.183      0.000       0.081       0.180\n",
      "exper             0.1233      0.019      6.590      0.000       0.087       0.160\n",
      "I(exper ** 2)    -0.0019      0.001     -3.145      0.002      -0.003      -0.001\n",
      "age              -0.0529      0.008     -6.235      0.000      -0.069      -0.036\n",
      "kidslt6          -0.8683      0.119     -7.326      0.000      -1.101      -0.636\n",
      "kidsge6           0.0360      0.043      0.828      0.408      -0.049       0.121\n",
      "=================================================================================\n",
      "\n",
      "results_probit.llf: -401.30219317389515\n",
      "\n",
      "results_probit.prsquared: 0.22058054372529368\n",
      "\n"
     ]
    }
   ],
   "source": [
    "# 3. Probit model\n",
    "\n",
    "import wooldridge as woo\n",
    "import pandas as pd\n",
    "import statsmodels. formula.api as smf\n",
    "\n",
    "mroz = woo.dataWoo('mroz')\n",
    "\n",
    "reg_probit = smf.probit(formula = 'inlf ~ nwifeinc + educ + exper + I(exper**2) + age + kidslt6 + kidsge6', data=mroz)\n",
    "results_probit = reg_probit.fit(disp=0)\n",
    "print (f'results_probit.summary(): \\n{results_probit.summary()}\\n')\n",
    "\n",
    "print (f'results_probit.llf: {results_probit.llf}\\n')\n",
    "print (f'results_probit.prsquared: {results_probit.prsquared}\\n')"
   ]
  },
  {
   "cell_type": "code",
   "execution_count": 9,
   "metadata": {},
   "outputs": [
    {
     "name": "stdout",
     "output_type": "stream",
     "text": [
      "results_logit.summary(): \n",
      "                           Logit Regression Results                           \n",
      "==============================================================================\n",
      "Dep. Variable:                   inlf   No. Observations:                  753\n",
      "Model:                          Logit   Df Residuals:                      745\n",
      "Method:                           MLE   Df Model:                            7\n",
      "Date:                Tue, 15 Mar 2022   Pseudo R-squ.:                  0.2197\n",
      "Time:                        20:21:41   Log-Likelihood:                -401.77\n",
      "converged:                       True   LL-Null:                       -514.87\n",
      "Covariance Type:            nonrobust   LLR p-value:                 3.159e-45\n",
      "=================================================================================\n",
      "                    coef    std err          z      P>|z|      [0.025      0.975]\n",
      "---------------------------------------------------------------------------------\n",
      "Intercept         0.4255      0.860      0.494      0.621      -1.261       2.112\n",
      "nwifeinc         -0.0213      0.008     -2.535      0.011      -0.038      -0.005\n",
      "educ              0.2212      0.043      5.091      0.000       0.136       0.306\n",
      "exper             0.2059      0.032      6.422      0.000       0.143       0.269\n",
      "I(exper ** 2)    -0.0032      0.001     -3.104      0.002      -0.005      -0.001\n",
      "age              -0.0880      0.015     -6.040      0.000      -0.117      -0.059\n",
      "kidslt6          -1.4434      0.204     -7.090      0.000      -1.842      -1.044\n",
      "kidsge6           0.0601      0.075      0.804      0.422      -0.086       0.207\n",
      "=================================================================================\n",
      "\n",
      "results_logit.llf: -401.76515113438177\n",
      "\n",
      "results_logit.prsquared: 0.21968137484058803\n",
      "\n"
     ]
    }
   ],
   "source": [
    "# 4. Logit model\n",
    "\n",
    "import wooldridge as woo\n",
    "import pandas as pd\n",
    "import statsmodels. formula.api as smf\n",
    "\n",
    "mroz = woo.dataWoo('mroz')\n",
    "\n",
    "reg_logit = smf.logit(formula = 'inlf ~ nwifeinc + educ + exper + I(exper**2) + age + kidslt6 + kidsge6', data=mroz)\n",
    "results_logit = reg_logit.fit(disp=0)\n",
    "print (f'results_logit.summary(): \\n{results_logit.summary()}\\n')\n",
    "\n",
    "print (f'results_logit.llf: {results_logit.llf}\\n')\n",
    "print (f'results_logit.prsquared: {results_logit.prsquared}\\n')"
   ]
  }
 ],
 "metadata": {
  "interpreter": {
   "hash": "219dc817421b9ce06405e05c9922e5826fb065636fd3809d5bed4cec56f8c011"
  },
  "kernelspec": {
   "display_name": "Python 3.8.5 ('base')",
   "language": "python",
   "name": "python3"
  },
  "language_info": {
   "codemirror_mode": {
    "name": "ipython",
    "version": 3
   },
   "file_extension": ".py",
   "mimetype": "text/x-python",
   "name": "python",
   "nbconvert_exporter": "python",
   "pygments_lexer": "ipython3",
   "version": "3.8.5"
  },
  "orig_nbformat": 4
 },
 "nbformat": 4,
 "nbformat_minor": 2
}
