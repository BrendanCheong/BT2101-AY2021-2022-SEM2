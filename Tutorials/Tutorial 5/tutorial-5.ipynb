{
 "cells": [
  {
   "cell_type": "code",
   "execution_count": 2,
   "metadata": {},
   "outputs": [
    {
     "data": {
      "text/html": [
       "<div>\n",
       "<style scoped>\n",
       "    .dataframe tbody tr th:only-of-type {\n",
       "        vertical-align: middle;\n",
       "    }\n",
       "\n",
       "    .dataframe tbody tr th {\n",
       "        vertical-align: top;\n",
       "    }\n",
       "\n",
       "    .dataframe thead th {\n",
       "        text-align: right;\n",
       "    }\n",
       "</style>\n",
       "<table border=\"1\" class=\"dataframe\">\n",
       "  <thead>\n",
       "    <tr style=\"text-align: right;\">\n",
       "      <th></th>\n",
       "      <th>faminc</th>\n",
       "      <th>bwght</th>\n",
       "      <th>fatheduc</th>\n",
       "      <th>motheduc</th>\n",
       "      <th>male</th>\n",
       "      <th>white</th>\n",
       "      <th>cigs</th>\n",
       "    </tr>\n",
       "  </thead>\n",
       "  <tbody>\n",
       "    <tr>\n",
       "      <th>0</th>\n",
       "      <td>13.5</td>\n",
       "      <td>109</td>\n",
       "      <td>12.0</td>\n",
       "      <td>12.0</td>\n",
       "      <td>1</td>\n",
       "      <td>1</td>\n",
       "      <td>0</td>\n",
       "    </tr>\n",
       "    <tr>\n",
       "      <th>1</th>\n",
       "      <td>7.5</td>\n",
       "      <td>133</td>\n",
       "      <td>6.0</td>\n",
       "      <td>12.0</td>\n",
       "      <td>1</td>\n",
       "      <td>0</td>\n",
       "      <td>0</td>\n",
       "    </tr>\n",
       "    <tr>\n",
       "      <th>2</th>\n",
       "      <td>0.5</td>\n",
       "      <td>129</td>\n",
       "      <td>NaN</td>\n",
       "      <td>12.0</td>\n",
       "      <td>0</td>\n",
       "      <td>0</td>\n",
       "      <td>0</td>\n",
       "    </tr>\n",
       "    <tr>\n",
       "      <th>3</th>\n",
       "      <td>15.5</td>\n",
       "      <td>126</td>\n",
       "      <td>12.0</td>\n",
       "      <td>12.0</td>\n",
       "      <td>1</td>\n",
       "      <td>0</td>\n",
       "      <td>0</td>\n",
       "    </tr>\n",
       "    <tr>\n",
       "      <th>4</th>\n",
       "      <td>27.5</td>\n",
       "      <td>134</td>\n",
       "      <td>14.0</td>\n",
       "      <td>12.0</td>\n",
       "      <td>1</td>\n",
       "      <td>1</td>\n",
       "      <td>0</td>\n",
       "    </tr>\n",
       "    <tr>\n",
       "      <th>...</th>\n",
       "      <td>...</td>\n",
       "      <td>...</td>\n",
       "      <td>...</td>\n",
       "      <td>...</td>\n",
       "      <td>...</td>\n",
       "      <td>...</td>\n",
       "      <td>...</td>\n",
       "    </tr>\n",
       "    <tr>\n",
       "      <th>1383</th>\n",
       "      <td>27.5</td>\n",
       "      <td>110</td>\n",
       "      <td>12.0</td>\n",
       "      <td>12.0</td>\n",
       "      <td>1</td>\n",
       "      <td>1</td>\n",
       "      <td>0</td>\n",
       "    </tr>\n",
       "    <tr>\n",
       "      <th>1384</th>\n",
       "      <td>5.5</td>\n",
       "      <td>146</td>\n",
       "      <td>NaN</td>\n",
       "      <td>16.0</td>\n",
       "      <td>1</td>\n",
       "      <td>1</td>\n",
       "      <td>0</td>\n",
       "    </tr>\n",
       "    <tr>\n",
       "      <th>1385</th>\n",
       "      <td>65.0</td>\n",
       "      <td>135</td>\n",
       "      <td>18.0</td>\n",
       "      <td>16.0</td>\n",
       "      <td>0</td>\n",
       "      <td>1</td>\n",
       "      <td>0</td>\n",
       "    </tr>\n",
       "    <tr>\n",
       "      <th>1386</th>\n",
       "      <td>27.5</td>\n",
       "      <td>118</td>\n",
       "      <td>NaN</td>\n",
       "      <td>14.0</td>\n",
       "      <td>0</td>\n",
       "      <td>1</td>\n",
       "      <td>0</td>\n",
       "    </tr>\n",
       "    <tr>\n",
       "      <th>1387</th>\n",
       "      <td>37.5</td>\n",
       "      <td>111</td>\n",
       "      <td>16.0</td>\n",
       "      <td>13.0</td>\n",
       "      <td>0</td>\n",
       "      <td>1</td>\n",
       "      <td>0</td>\n",
       "    </tr>\n",
       "  </tbody>\n",
       "</table>\n",
       "<p>1388 rows × 7 columns</p>\n",
       "</div>"
      ],
      "text/plain": [
       "      faminc  bwght  fatheduc  motheduc  male  white  cigs\n",
       "0       13.5    109      12.0      12.0     1      1     0\n",
       "1        7.5    133       6.0      12.0     1      0     0\n",
       "2        0.5    129       NaN      12.0     0      0     0\n",
       "3       15.5    126      12.0      12.0     1      0     0\n",
       "4       27.5    134      14.0      12.0     1      1     0\n",
       "...      ...    ...       ...       ...   ...    ...   ...\n",
       "1383    27.5    110      12.0      12.0     1      1     0\n",
       "1384     5.5    146       NaN      16.0     1      1     0\n",
       "1385    65.0    135      18.0      16.0     0      1     0\n",
       "1386    27.5    118       NaN      14.0     0      1     0\n",
       "1387    37.5    111      16.0      13.0     0      1     0\n",
       "\n",
       "[1388 rows x 7 columns]"
      ]
     },
     "execution_count": 2,
     "metadata": {},
     "output_type": "execute_result"
    }
   ],
   "source": [
    "import numpy as np\n",
    "import scipy as sp\n",
    "import statsmodels.formula.api as smf\n",
    "import statsmodels.api as sm\n",
    "import pandas as pd\n",
    "import seaborn as sns\n",
    "import wooldridge\n",
    "import math\n",
    "from typing import *\n",
    "from statsmodels.tools.eval_measures import rmse\n",
    "sns.set(rc={'figure.figsize':(11.7,8.27)})\n",
    "df = pd.read_csv(\"BT2101_week8_hw.csv\")\n",
    "df"
   ]
  },
  {
   "cell_type": "code",
   "execution_count": 4,
   "metadata": {},
   "outputs": [
    {
     "name": "stdout",
     "output_type": "stream",
     "text": [
      "faminc      -0.524170\n",
      "bwght        3.163343\n",
      "fatheduc     1.100896\n",
      "motheduc     0.654923\n",
      "male        -1.995866\n",
      "white       -0.079261\n",
      "cigs        14.992246\n",
      "dtype: float64\n",
      "faminc      0.618289\n",
      "bwght      -0.146024\n",
      "fatheduc   -0.390807\n",
      "motheduc   -0.032155\n",
      "male       -0.083737\n",
      "white      -1.385949\n",
      "cigs        3.564301\n",
      "dtype: float64\n"
     ]
    }
   ],
   "source": [
    "print(df.kurtosis(axis = 0))\n",
    "print(df.skew())\n",
    "# if not exactly kurt = 3.0 or skew = 0, then its not perfectly normally distributed\n",
    "# NOTE: you need to add +3 to kurtosis because python auto deducts 3 from true answer"
   ]
  },
  {
   "cell_type": "code",
   "execution_count": 5,
   "metadata": {},
   "outputs": [
    {
     "data": {
      "text/plain": [
       "-0.15076180254312685"
      ]
     },
     "execution_count": 5,
     "metadata": {},
     "output_type": "execute_result"
    }
   ],
   "source": [
    "# 2\n",
    "\n",
    "df['bwght'].corr(df['cigs'])"
   ]
  },
  {
   "cell_type": "code",
   "execution_count": 11,
   "metadata": {},
   "outputs": [
    {
     "data": {
      "text/plain": [
       "(   Variable       N        Mean         SD        SE   95% Conf.    Interval\n",
       " 0   nosmoke  1176.0  120.061224  20.268487  0.591041  118.901611  121.220838\n",
       " 1   smokers   212.0  111.146226  19.181407  1.317384  108.549305  113.743148\n",
       " 2  combined  1388.0  118.699568  20.353964  0.546329  117.627847  119.771288,\n",
       "                   Independent t-test    results\n",
       " 0  Difference (nosmoke - smokers) =      8.9150\n",
       " 1              Degrees of freedom =   1386.0000\n",
       " 2                               t =      5.9423\n",
       " 3           Two side test p value =      0.0000\n",
       " 4          Difference < 0 p value =      1.0000\n",
       " 5          Difference > 0 p value =      0.0000\n",
       " 6                       Cohen's d =      0.4434\n",
       " 7                       Hedge's g =      0.4431\n",
       " 8                   Glass's delta =      0.4398\n",
       " 9                     Pearson's r =      0.1576)"
      ]
     },
     "execution_count": 11,
     "metadata": {},
     "output_type": "execute_result"
    }
   ],
   "source": [
    "# 3\n",
    "import researchpy as rp\n",
    "rp.ttest(group1 = df['bwght'][df['cigs'] == 0], group1_name = 'nosmoke',\n",
    "    group2 = df['bwght'][df['cigs'] > 0], group2_name = 'smokers')"
   ]
  },
  {
   "cell_type": "code",
   "execution_count": 13,
   "metadata": {},
   "outputs": [
    {
     "data": {
      "text/html": [
       "<table class=\"simpletable\">\n",
       "<caption>OLS Regression Results</caption>\n",
       "<tr>\n",
       "  <th>Dep. Variable:</th>          <td>bwght</td>      <th>  R-squared:         </th> <td>   0.023</td> \n",
       "</tr>\n",
       "<tr>\n",
       "  <th>Model:</th>                   <td>OLS</td>       <th>  Adj. R-squared:    </th> <td>   0.022</td> \n",
       "</tr>\n",
       "<tr>\n",
       "  <th>Method:</th>             <td>Least Squares</td>  <th>  F-statistic:       </th> <td>   32.24</td> \n",
       "</tr>\n",
       "<tr>\n",
       "  <th>Date:</th>             <td>Wed, 16 Mar 2022</td> <th>  Prob (F-statistic):</th> <td>1.66e-08</td> \n",
       "</tr>\n",
       "<tr>\n",
       "  <th>Time:</th>                 <td>13:15:49</td>     <th>  Log-Likelihood:    </th> <td> -6135.5</td> \n",
       "</tr>\n",
       "<tr>\n",
       "  <th>No. Observations:</th>      <td>  1388</td>      <th>  AIC:               </th> <td>1.227e+04</td>\n",
       "</tr>\n",
       "<tr>\n",
       "  <th>Df Residuals:</th>          <td>  1386</td>      <th>  BIC:               </th> <td>1.229e+04</td>\n",
       "</tr>\n",
       "<tr>\n",
       "  <th>Df Model:</th>              <td>     1</td>      <th>                     </th>     <td> </td>    \n",
       "</tr>\n",
       "<tr>\n",
       "  <th>Covariance Type:</th>      <td>nonrobust</td>    <th>                     </th>     <td> </td>    \n",
       "</tr>\n",
       "</table>\n",
       "<table class=\"simpletable\">\n",
       "<tr>\n",
       "      <td></td>         <th>coef</th>     <th>std err</th>      <th>t</th>      <th>P>|t|</th>  <th>[0.025</th>    <th>0.975]</th>  \n",
       "</tr>\n",
       "<tr>\n",
       "  <th>Intercept</th> <td>  119.7719</td> <td>    0.572</td> <td>  209.267</td> <td> 0.000</td> <td>  118.649</td> <td>  120.895</td>\n",
       "</tr>\n",
       "<tr>\n",
       "  <th>cigs</th>      <td>   -0.5138</td> <td>    0.090</td> <td>   -5.678</td> <td> 0.000</td> <td>   -0.691</td> <td>   -0.336</td>\n",
       "</tr>\n",
       "</table>\n",
       "<table class=\"simpletable\">\n",
       "<tr>\n",
       "  <th>Omnibus:</th>       <td>118.187</td> <th>  Durbin-Watson:     </th> <td>   1.924</td> \n",
       "</tr>\n",
       "<tr>\n",
       "  <th>Prob(Omnibus):</th> <td> 0.000</td>  <th>  Jarque-Bera (JB):  </th> <td> 635.742</td> \n",
       "</tr>\n",
       "<tr>\n",
       "  <th>Skew:</th>          <td>-0.156</td>  <th>  Prob(JB):          </th> <td>8.92e-139</td>\n",
       "</tr>\n",
       "<tr>\n",
       "  <th>Kurtosis:</th>      <td> 6.301</td>  <th>  Cond. No.          </th> <td>    6.72</td> \n",
       "</tr>\n",
       "</table><br/><br/>Notes:<br/>[1] Standard Errors assume that the covariance matrix of the errors is correctly specified."
      ],
      "text/plain": [
       "<class 'statsmodels.iolib.summary.Summary'>\n",
       "\"\"\"\n",
       "                            OLS Regression Results                            \n",
       "==============================================================================\n",
       "Dep. Variable:                  bwght   R-squared:                       0.023\n",
       "Model:                            OLS   Adj. R-squared:                  0.022\n",
       "Method:                 Least Squares   F-statistic:                     32.24\n",
       "Date:                Wed, 16 Mar 2022   Prob (F-statistic):           1.66e-08\n",
       "Time:                        13:15:49   Log-Likelihood:                -6135.5\n",
       "No. Observations:                1388   AIC:                         1.227e+04\n",
       "Df Residuals:                    1386   BIC:                         1.229e+04\n",
       "Df Model:                           1                                         \n",
       "Covariance Type:            nonrobust                                         \n",
       "==============================================================================\n",
       "                 coef    std err          t      P>|t|      [0.025      0.975]\n",
       "------------------------------------------------------------------------------\n",
       "Intercept    119.7719      0.572    209.267      0.000     118.649     120.895\n",
       "cigs          -0.5138      0.090     -5.678      0.000      -0.691      -0.336\n",
       "==============================================================================\n",
       "Omnibus:                      118.187   Durbin-Watson:                   1.924\n",
       "Prob(Omnibus):                  0.000   Jarque-Bera (JB):              635.742\n",
       "Skew:                          -0.156   Prob(JB):                    8.92e-139\n",
       "Kurtosis:                       6.301   Cond. No.                         6.72\n",
       "==============================================================================\n",
       "\n",
       "Notes:\n",
       "[1] Standard Errors assume that the covariance matrix of the errors is correctly specified.\n",
       "\"\"\""
      ]
     },
     "execution_count": 13,
     "metadata": {},
     "output_type": "execute_result"
    }
   ],
   "source": [
    "# 4\n",
    "reg1 = smf.ols(formula=\"bwght ~ cigs\", data=df).fit()\n",
    "reg1.summary()"
   ]
  },
  {
   "cell_type": "code",
   "execution_count": null,
   "metadata": {},
   "outputs": [],
   "source": [
    "# 5\n",
    "# r-square is 0.0227, small doesn't mean smoking not important, as the value is still significant at 5%"
   ]
  },
  {
   "cell_type": "code",
   "execution_count": null,
   "metadata": {},
   "outputs": [],
   "source": [
    "# 6\n",
    "# faminc, fatheduc, mothedc, the values are -0.1730, -0.1792, -0.2139\n",
    "# higher income means higher access to hospitals etc.."
   ]
  },
  {
   "cell_type": "code",
   "execution_count": null,
   "metadata": {},
   "outputs": [],
   "source": [
    "# 7\n",
    "# see my answers"
   ]
  },
  {
   "cell_type": "code",
   "execution_count": 15,
   "metadata": {},
   "outputs": [
    {
     "name": "stdout",
     "output_type": "stream",
     "text": [
      "<F test: F=array([[1.59592014]]), p=0.18862405802394136, df_denom=1.18e+03, df_num=3>\n"
     ]
    }
   ],
   "source": [
    "# 8\n",
    "# F-statistic or F-test\n",
    "model = smf.ols(formula='bwght ~ cigs + faminc + fatheduc + motheduc + male + white',data=df).fit()\n",
    "f_test: float = model.f_test('faminc = fatheduc = motheduc = 0')\n",
    "print(f_test)\n",
    "# faminc, fatheduc, motheduc has no effect"
   ]
  },
  {
   "cell_type": "code",
   "execution_count": 17,
   "metadata": {},
   "outputs": [
    {
     "name": "stdout",
     "output_type": "stream",
     "text": [
      "                            OLS Regression Results                            \n",
      "==============================================================================\n",
      "Dep. Variable:                  bwght   R-squared:                       0.047\n",
      "Model:                            OLS   Adj. R-squared:                  0.042\n",
      "Method:                 Least Squares   F-statistic:                     8.393\n",
      "Date:                Wed, 16 Mar 2022   Prob (F-statistic):           4.84e-10\n",
      "Time:                        13:43:56   Log-Likelihood:                -5236.9\n",
      "No. Observations:                1191   AIC:                         1.049e+04\n",
      "Df Residuals:                    1183   BIC:                         1.053e+04\n",
      "Df Model:                           7                                         \n",
      "Covariance Type:            nonrobust                                         \n",
      "==============================================================================\n",
      "                 coef    std err          t      P>|t|      [0.025      0.975]\n",
      "------------------------------------------------------------------------------\n",
      "Intercept    112.9936      3.709     30.464      0.000     105.716     120.271\n",
      "cigs          -0.5787      0.151     -3.834      0.000      -0.875      -0.283\n",
      "faminc         0.0420      0.037      1.132      0.258      -0.031       0.115\n",
      "fatheduc       0.4371      0.282      1.550      0.121      -0.116       0.990\n",
      "motheduc      -0.4042      0.318     -1.269      0.205      -1.029       0.221\n",
      "male           3.7613      1.207      3.115      0.002       1.392       6.130\n",
      "white          4.5209      1.612      2.804      0.005       1.358       7.684\n",
      "male:cigs     -0.0254      0.214     -0.118      0.906      -0.446       0.395\n",
      "==============================================================================\n",
      "Omnibus:                      122.159   Durbin-Watson:                   1.946\n",
      "Prob(Omnibus):                  0.000   Jarque-Bera (JB):              877.136\n",
      "Skew:                          -0.097   Prob(JB):                    3.41e-191\n",
      "Kurtosis:                       7.200   Cond. No.                         269.\n",
      "==============================================================================\n",
      "\n",
      "Notes:\n",
      "[1] Standard Errors assume that the covariance matrix of the errors is correctly specified.\n"
     ]
    }
   ],
   "source": [
    "# 10\n",
    "# combine male and cigs together\n",
    "model = smf.ols(formula=\"bwght ~ cigs + faminc + fatheduc + motheduc + male + white + male:cigs\",data=df).fit()\n",
    "print(model.summary())"
   ]
  }
 ],
 "metadata": {
  "interpreter": {
   "hash": "219dc817421b9ce06405e05c9922e5826fb065636fd3809d5bed4cec56f8c011"
  },
  "kernelspec": {
   "display_name": "Python 3.8.5 ('base')",
   "language": "python",
   "name": "python3"
  },
  "language_info": {
   "codemirror_mode": {
    "name": "ipython",
    "version": 3
   },
   "file_extension": ".py",
   "mimetype": "text/x-python",
   "name": "python",
   "nbconvert_exporter": "python",
   "pygments_lexer": "ipython3",
   "version": "3.8.5"
  },
  "orig_nbformat": 4
 },
 "nbformat": 4,
 "nbformat_minor": 2
}
