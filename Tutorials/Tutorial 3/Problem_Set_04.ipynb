{
 "cells": [
  {
   "cell_type": "code",
   "execution_count": 2,
   "metadata": {},
   "outputs": [],
   "source": [
    "import numpy as np\n",
    "import scipy as sp\n",
    "import statsmodels.formula.api as smf\n",
    "import statsmodels.api as sm\n",
    "import pandas as pd\n",
    "import seaborn as sns\n",
    "import wooldridge\n",
    "from typing import *\n",
    "from statsmodels.tools.eval_measures import rmse\n",
    "sns.set(rc={'figure.figsize':(11.7,8.27)})\n",
    "\n",
    "company_df = pd.read_csv(\"1999_company.csv\")\n",
    "univ_df = pd.read_csv(\"Univ.csv\")"
   ]
  },
  {
   "cell_type": "code",
   "execution_count": 21,
   "metadata": {},
   "outputs": [
    {
     "name": "stdout",
     "output_type": "stream",
     "text": [
      "                            OLS Regression Results                            \n",
      "==============================================================================\n",
      "Dep. Variable:                 salary   R-squared:                       0.142\n",
      "Model:                            OLS   Adj. R-squared:                 -0.049\n",
      "Method:                 Least Squares   F-statistic:                    0.7428\n",
      "Date:                Wed, 16 Feb 2022   Prob (F-statistic):              0.503\n",
      "Time:                        13:14:27   Log-Likelihood:                -111.35\n",
      "No. Observations:                  12   AIC:                             228.7\n",
      "Df Residuals:                       9   BIC:                             230.1\n",
      "Df Model:                           2                                         \n",
      "Covariance Type:            nonrobust                                         \n",
      "==============================================================================\n",
      "                 coef    std err          t      P>|t|      [0.025      0.975]\n",
      "------------------------------------------------------------------------------\n",
      "Intercept   2.339e+04   2.21e+04      1.058      0.317   -2.66e+04    7.34e+04\n",
      "profits        0.0004      0.223      0.002      0.998      -0.503       0.504\n",
      "age         -321.5756    353.268     -0.910      0.386   -1120.724     477.573\n",
      "==============================================================================\n",
      "Omnibus:                        2.032   Durbin-Watson:                   1.564\n",
      "Prob(Omnibus):                  0.362   Jarque-Bera (JB):                0.899\n",
      "Skew:                           0.670   Prob(JB):                        0.638\n",
      "Kurtosis:                       2.937   Cond. No.                     2.11e+05\n",
      "==============================================================================\n",
      "\n",
      "Notes:\n",
      "[1] Standard Errors assume that the covariance matrix of the errors is correctly specified.\n",
      "[2] The condition number is large, 2.11e+05. This might indicate that there are\n",
      "strong multicollinearity or other numerical problems.\n",
      "Intercept    23389.960409\n",
      "profits          0.000431\n",
      "age           -321.575606\n",
      "dtype: float64\n"
     ]
    },
    {
     "name": "stderr",
     "output_type": "stream",
     "text": [
      "C:\\Users\\brend\\anaconda3\\lib\\site-packages\\scipy\\stats\\stats.py:1603: UserWarning: kurtosistest only valid for n>=20 ... continuing anyway, n=12\n",
      "  warnings.warn(\"kurtosistest only valid for n>=20 ... continuing \"\n"
     ]
    }
   ],
   "source": [
    "Y = company_df[\"salary\"]\n",
    "X = company_df[[\"profits\", \"age\"]]\n",
    "\n",
    "model = smf.ols(formula=\"salary ~ profits + age\", data=company_df).fit()\n",
    "print(model.summary())\n",
    "print(model.params)\n",
    "# sns.regplot(x=X, y=Y, data=company_df)"
   ]
  },
  {
   "cell_type": "code",
   "execution_count": 30,
   "metadata": {},
   "outputs": [
    {
     "name": "stdout",
     "output_type": "stream",
     "text": [
      "H0: B_tenure == 0\n",
      "H1: B_tenure != 0\n",
      "                            OLS Regression Results                            \n",
      "==============================================================================\n",
      "Dep. Variable:                   wage   R-squared:                       0.306\n",
      "Model:                            OLS   Adj. R-squared:                  0.302\n",
      "Method:                 Least Squares   F-statistic:                     76.87\n",
      "Date:                Wed, 16 Feb 2022   Prob (F-statistic):           3.41e-41\n",
      "Time:                        13:22:09   Log-Likelihood:                -1336.8\n",
      "No. Observations:                 526   AIC:                             2682.\n",
      "Df Residuals:                     522   BIC:                             2699.\n",
      "Df Model:                           3                                         \n",
      "Covariance Type:            nonrobust                                         \n",
      "==============================================================================\n",
      "                 coef    std err          t      P>|t|      [0.025      0.975]\n",
      "------------------------------------------------------------------------------\n",
      "Intercept     -2.8727      0.729     -3.941      0.000      -4.305      -1.441\n",
      "tenure         0.1693      0.022      7.820      0.000       0.127       0.212\n",
      "educ           0.5990      0.051     11.679      0.000       0.498       0.700\n",
      "exper          0.0223      0.012      1.853      0.064      -0.001       0.046\n",
      "==============================================================================\n",
      "Omnibus:                      179.597   Durbin-Watson:                   1.791\n",
      "Prob(Omnibus):                  0.000   Jarque-Bera (JB):              650.808\n",
      "Skew:                           1.555   Prob(JB):                    4.77e-142\n",
      "Kurtosis:                       7.475   Cond. No.                         135.\n",
      "==============================================================================\n",
      "\n",
      "Notes:\n",
      "[1] Standard Errors assume that the covariance matrix of the errors is correctly specified.\n",
      "Intercept   -2.872735\n",
      "tenure       0.169269\n",
      "educ         0.598965\n",
      "exper        0.022340\n",
      "dtype: float64\n",
      "models r-squared: 0.31 and p-value: 0.00 and coefficient of tenure: 0.17 so this shows positive association thats statistically significant and we can reject H0 and accept H1, with the model explaining more than 30% of the results\n"
     ]
    }
   ],
   "source": [
    "wage1 = wooldridge.dataWoo(\"wage1\")\n",
    "print(\"H0: B_tenure == 0\")\n",
    "print(\"H1: B_tenure != 0\")\n",
    "model = smf.ols(formula=\"wage ~ tenure + educ + exper\", data=wage1).fit()\n",
    "print(model.summary())\n",
    "print(model.params)\n",
    "print(f\"models r-squared: {model.rsquared:.2f} and p-value: {model.pvalues['tenure']:.2f} and coefficient of tenure: {model.params['tenure']:.2f} so this shows positive association thats statistically significant and we can reject H0 and accept H1, with the model explaining more than 30% of the results\")"
   ]
  },
  {
   "cell_type": "code",
   "execution_count": 40,
   "metadata": {},
   "outputs": [
    {
     "name": "stdout",
     "output_type": "stream",
     "text": [
      "                            OLS Regression Results                            \n",
      "==============================================================================\n",
      "Dep. Variable:                 mbagpa   R-squared:                       0.332\n",
      "Model:                            OLS   Adj. R-squared:                  0.305\n",
      "Method:                 Least Squares   F-statistic:                     12.57\n",
      "Date:                Wed, 16 Feb 2022   Prob (F-statistic):           9.26e-07\n",
      "Time:                        13:32:35   Log-Likelihood:                -78.389\n",
      "No. Observations:                  80   AIC:                             164.8\n",
      "Df Residuals:                      76   BIC:                             174.3\n",
      "Df Model:                           3                                         \n",
      "Covariance Type:            nonrobust                                         \n",
      "==============================================================================\n",
      "                 coef    std err          t      P>|t|      [0.025      0.975]\n",
      "------------------------------------------------------------------------------\n",
      "Intercept      0.6962      0.315      2.208      0.030       0.068       1.324\n",
      "averhour       0.5057      0.134      3.784      0.000       0.240       0.772\n",
      "salary         0.0002   8.78e-05      1.720      0.090   -2.38e-05       0.000\n",
      "numofact       0.0242      0.069      0.351      0.727      -0.113       0.161\n",
      "==============================================================================\n",
      "Omnibus:                        0.457   Durbin-Watson:                   2.133\n",
      "Prob(Omnibus):                  0.796   Jarque-Bera (JB):                0.101\n",
      "Skew:                           0.013   Prob(JB):                        0.951\n",
      "Kurtosis:                       3.172   Cond. No.                     6.67e+03\n",
      "==============================================================================\n",
      "\n",
      "Notes:\n",
      "[1] Standard Errors assume that the covariance matrix of the errors is correctly specified.\n",
      "[2] The condition number is large, 6.67e+03. This might indicate that there are\n",
      "strong multicollinearity or other numerical problems.\n",
      "Intercept    0.696179\n",
      "averhour     0.505728\n",
      "salary       0.000151\n",
      "numofact     0.024157\n",
      "dtype: float64\n"
     ]
    }
   ],
   "source": [
    "model = smf.ols(formula=\"mbagpa ~ averhour + salary + numofact\",data=univ_df).fit()\n",
    "print(model.summary())\n",
    "print(model.params)"
   ]
  },
  {
   "cell_type": "code",
   "execution_count": 41,
   "metadata": {},
   "outputs": [
    {
     "name": "stdout",
     "output_type": "stream",
     "text": [
      "H0: B_averhour == 0\n",
      "H1: B_averhour != 0\n",
      "average hour p-value: 0.00 and coefficient of average hour: 0.51 and adjusted r-squared value: 0.31 so this shows positive association thats statistically significant and we can reject H0 and accept H1, with the model explaining more than 30% of the results\n",
      "H0: B_activities == 0\n",
      "H1: B_activities != 0\n",
      "activities p-value: 0.73 and coefficient of activities: 0.02 and adjusted r-squared value: 0.31 shows a non-statistically significant result as p > 0.01 and we can reject H1 and accept H0, with the model explaining more than 30% of the results\n",
      "H0: B_salary == 0\n",
      "H1: B_salary != 0\n",
      "salary p-value: 0.09 and coefficient of salary: 0.00 and adjusted r-squared value: 0.31 shows a non-statistically significant result as p > 0.01 and we can reject H1 and accept H0, with the model explaining more than 30% of the results\n"
     ]
    }
   ],
   "source": [
    "################################################################\n",
    "print(f\"H0: B_averhour == 0\")\n",
    "print(f\"H1: B_averhour != 0\")\n",
    "print(f\"average hour p-value: {model.pvalues['averhour']:.2f} and coefficient of average hour: {model.params['averhour']:.2f} and adjusted r-squared value: {model.rsquared_adj:.2f} so this shows positive association thats statistically significant and we can reject H0 and accept H1, with the model explaining more than 30% of the results\")\n",
    "\n",
    "################################################################\n",
    "print(f\"H0: B_activities == 0\")\n",
    "print(f\"H1: B_activities != 0\")\n",
    "print(f\"activities p-value: {model.pvalues['numofact']:.2f} and coefficient of activities: {model.params['numofact']:.2f} and adjusted r-squared value: {model.rsquared_adj:.2f} shows a non-statistically significant result as p > 0.01 and we can reject H1 and accept H0, with the model explaining more than 30% of the results\")\n",
    "\n",
    "################################################################\n",
    "print(f\"H0: B_salary == 0\")\n",
    "print(f\"H1: B_salary != 0\")\n",
    "print(f\"salary p-value: {model.pvalues['salary']:.2f} and coefficient of salary: {model.params['salary']:.2f} and adjusted r-squared value: {model.rsquared_adj:.2f} shows a non-statistically significant result as p > 0.01 and we can reject H1 and accept H0, with the model explaining more than 30% of the results\")"
   ]
  }
 ],
 "metadata": {
  "interpreter": {
   "hash": "219dc817421b9ce06405e05c9922e5826fb065636fd3809d5bed4cec56f8c011"
  },
  "kernelspec": {
   "display_name": "Python 3.8.5 ('base')",
   "language": "python",
   "name": "python3"
  },
  "language_info": {
   "codemirror_mode": {
    "name": "ipython",
    "version": 3
   },
   "file_extension": ".py",
   "mimetype": "text/x-python",
   "name": "python",
   "nbconvert_exporter": "python",
   "pygments_lexer": "ipython3",
   "version": "3.8.5"
  },
  "orig_nbformat": 4
 },
 "nbformat": 4,
 "nbformat_minor": 2
}
